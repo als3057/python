{
  "nbformat": 4,
  "nbformat_minor": 0,
  "metadata": {
    "colab": {
      "provenance": [],
      "authorship_tag": "ABX9TyMHzkxaX+k+zt6DRLlQ51/l",
      "include_colab_link": true
    },
    "kernelspec": {
      "name": "python3",
      "display_name": "Python 3"
    },
    "language_info": {
      "name": "python"
    }
  },
  "cells": [
    {
      "cell_type": "markdown",
      "metadata": {
        "id": "view-in-github",
        "colab_type": "text"
      },
      "source": [
        "<a href=\"https://colab.research.google.com/github/als3057/python/blob/main/41915049_%EC%9A%B0%EC%8A%B9%EB%AF%BC_pj_py.ipynb\" target=\"_parent\"><img src=\"https://colab.research.google.com/assets/colab-badge.svg\" alt=\"Open In Colab\"/></a>"
      ]
    },
    {
      "cell_type": "code",
      "execution_count": 1,
      "metadata": {
        "colab": {
          "base_uri": "https://localhost:8080/"
        },
        "id": "Pc7RngebCDnG",
        "outputId": "e1d89cf9-9022-414c-9573-ee19f3cde82c"
      },
      "outputs": [
        {
          "name": "stdout",
          "output_type": "stream",
          "text": [
            "찾고싶은 지역을 입력하세요: 여주시\n"
          ]
        }
      ],
      "source": [
        "import requests\n",
        "import json\n",
        "import folium\n",
        "\n",
        "sigun_nm = input(\"찾고싶은 지역을 입력하세요: \")\n",
        "\n",
        "url = 'https://openapi.gg.go.kr/GolfPlace'\n",
        "para = {'Key': '07e8d1981de04471adc5d612949aae02', 'pIndex': '1', 'pSize': '1000', 'Type': 'JSON', 'SIGUN_NM': sigun_nm}\n",
        "\n",
        "res = requests.get(url, params=para)\n",
        "data = json.loads(res.content)\n",
        "\n",
        "lat = float(data['GolfPlace'][1]['row'][0]['REFINE_WGS84_LAT'])\n",
        "lon = float(data['GolfPlace'][1]['row'][0]['REFINE_WGS84_LOGT'])\n",
        "map = folium.Map(location=[lat, lon], zoom_start=12)\n",
        "\n",
        "def set_popup_style(content):\n",
        "    lines = content.split('\\n')\n",
        "    modified_content = '<br>'.join(lines)\n",
        "    return f'<div style=\"width: 300px; white-space: pre-wrap;\">{modified_content}</div>'\n",
        "\n",
        "for golf_course in data['GolfPlace'][1]['row']:\n",
        "    lat = golf_course['REFINE_WGS84_LAT']\n",
        "    lon = golf_course['REFINE_WGS84_LOGT']\n",
        "    name = golf_course['BIZPLC_NM']\n",
        "    state = golf_course['BSN_STATE_NM']\n",
        "    address = golf_course['REFINE_ROADNM_ADDR']\n",
        "    lotno_address = golf_course['REFINE_LOTNO_ADDR']  \n",
        "    \n",
        "    if lat is not None and lon is not None:\n",
        "        lat = float(lat)\n",
        "        lon = float(lon)\n",
        "        \n",
        "        if state == '영업중' or state == '운영중':\n",
        "            popup_content = f'<h4>{name}</h4><p>영업상태: {state}</p><p>도로명주소: {address}</p><p>소재지지번주소: {lotno_address}</p>'\n",
        "            popup = folium.Popup(set_popup_style(popup_content))\n",
        "            folium.Marker([lat, lon], popup=popup, icon=folium.Icon(color='blue')).add_to(map)\n",
        "        elif '폐업' in state:\n",
        "            popup_content = f'<h4>{name}</h4><p>영업상태: {state}</p><p>도로명주소: {address}</p><p>소재지지번주소: {lotno_address}</p>'\n",
        "            popup = folium.Popup(set_popup_style(popup_content))\n",
        "            folium.Marker([lat, lon], popup=popup, icon=folium.Icon(color='red')).add_to(map)\n",
        "        else:\n",
        "            popup_content = f'<h4>{name}</h4><p>영업상태: {state}</p><p>도로명주소: {address}</p><p>소재지지번주소: {lotno_address}</p>'\n",
        "            popup = folium.Popup(set_popup_style(popup_content))\n",
        "            folium.Marker([lat, lon], popup=popup).add_to(map)\n",
        "\n",
        "\n",
        "\n",
        "map.save('map.html')"
      ]
    }
  ]
}