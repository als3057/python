{
  "nbformat": 4,
  "nbformat_minor": 0,
  "metadata": {
    "colab": {
      "provenance": [],
      "authorship_tag": "ABX9TyM9EWhk/LBmnC0Rc+zoBmhn",
      "include_colab_link": true
    },
    "kernelspec": {
      "name": "python3",
      "display_name": "Python 3"
    },
    "language_info": {
      "name": "python"
    }
  },
  "cells": [
    {
      "cell_type": "markdown",
      "metadata": {
        "id": "view-in-github",
        "colab_type": "text"
      },
      "source": [
        "<a href=\"https://colab.research.google.com/github/als3057/python/blob/main/Untitled1.ipynb\" target=\"_parent\"><img src=\"https://colab.research.google.com/assets/colab-badge.svg\" alt=\"Open In Colab\"/></a>"
      ]
    },
    {
      "cell_type": "markdown",
      "source": [
        "# ch1. 파이썬 문법  \n",
        "## 자료형  \n",
        "**숫자형**  \n",
        "* 정수 : 123, 456, 0, -30  \n",
        "* 실수 : 12, 345, -987, 65, 0.7e6  \n",
        "* 8진수 : 0o765, 0o123  \n",
        "* 16진수 : 0x00, 0x0A, 0xFF  \n",
        "\n",
        "**변수**\n",
        "* 문자, 또는 밑줄로 시작(_kim, alpha)  \n",
        "* 대소문자 구분(sum, Sum, SUM)  \n",
        "* 영문자, 숫자, 밑줄(A-z, 0-9, _)  \n",
        " ex) sun_9, Alpha, s9n)  \n",
        "* 파이썬 키워드 (print...)  \n",
        "\n",
        "\n",
        "**표기법**  \n",
        "+ 카멜(낙타) : myName  \n",
        "+ 스네이크(뱀) : my_name  \n",
        "+ 파스칼 : MyName"
      ],
      "metadata": {
        "id": "FMAvmUpviCqb"
      }
    },
    {
      "cell_type": "code",
      "source": [
        "a = 10\n",
        "b = 20\n",
        "f = \"10\"  \n",
        "c = a + b  \n",
        "print(a, b, c, f)"
      ],
      "metadata": {
        "colab": {
          "base_uri": "https://localhost:8080/"
        },
        "id": "Z9naCZyblX7U",
        "outputId": "4e300498-55a2-4bec-cb47-18b176762665"
      },
      "execution_count": null,
      "outputs": [
        {
          "output_type": "stream",
          "name": "stdout",
          "text": [
            "10 20 30 10\n"
          ]
        }
      ]
    },
    {
      "cell_type": "code",
      "source": [
        "a= 10\n",
        "b = 20\n",
        "c = \"10\" # 주석처리 = #\n",
        "d = \"20\"\n",
        "print(a+b)\n",
        "print(a,b)\n",
        "print(type(a))\n",
        "print(type(c))\n",
        "print(c+d)\n",
        "print(c,d)"
      ],
      "metadata": {
        "colab": {
          "base_uri": "https://localhost:8080/"
        },
        "id": "0dwf8TBXl-CX",
        "outputId": "744b6c6c-e694-43dd-feef-7cf32dc9759f"
      },
      "execution_count": null,
      "outputs": [
        {
          "output_type": "stream",
          "name": "stdout",
          "text": [
            "30\n",
            "10 20\n",
            "<class 'int'>\n",
            "<class 'str'>\n",
            "1020\n",
            "10 20\n"
          ]
        }
      ]
    },
    {
      "cell_type": "code",
      "execution_count": null,
      "metadata": {
        "colab": {
          "base_uri": "https://localhost:8080/"
        },
        "id": "zCwy5K0biAzQ",
        "outputId": "0d340be9-4cc7-4f21-84ca-9f6b58e749e7"
      },
      "outputs": [
        {
          "output_type": "stream",
          "name": "stdout",
          "text": [
            "3.3333333333333335 20 1\n"
          ]
        }
      ],
      "source": [
        "# 곱셈 나눗셈\n",
        "a = 10  \n",
        "b = 3\n",
        "c = a / b #몫\n",
        "e = a % b # 나머지\n",
        "print(c,d,e)\n"
      ]
    },
    {
      "cell_type": "code",
      "source": [
        "# 곱셈\n",
        "a = 10\n",
        "b = 3\n",
        "c = a * b # 곱셈\n",
        "d = a**b # 제곱\n",
        "print(c, d)"
      ],
      "metadata": {
        "colab": {
          "base_uri": "https://localhost:8080/"
        },
        "id": "6jnk4WgmrWlp",
        "outputId": "ce91af82-cad1-41d0-ac9e-011cce5b67ae"
      },
      "execution_count": null,
      "outputs": [
        {
          "output_type": "stream",
          "name": "stdout",
          "text": [
            "30 1000\n"
          ]
        }
      ]
    },
    {
      "cell_type": "markdown",
      "source": [
        "#### 문자열  \n",
        "1. 큰 따옴표 : \"Lang Kim\"  \n",
        "2. 작은 따옴표 : 'Lang Kim'  \n",
        "3. 큰 따옴표 3개 : \"\"\"대한민국\"\"\"  \n",
        "4. 작은 따옴표 3개 : '''대한민국'''  \n",
        "5. \"동해물과 백두산이 마르고 닳도록\n",
        "kim's\\\"    \n",
        "'''  \n",
        "동해물과 백두산이  \n",
        "마르고 닳도록  \n",
        "우리나라 좋은 나라  \n",
        "'''  \n"
      ],
      "metadata": {
        "id": "MZMth_MRrmdo"
      }
    },
    {
      "cell_type": "code",
      "source": [
        "# 변수  \n",
        "myName = \"Kim Lang Ki\"\n",
        "my_name = \"김랑기\"\n",
        "_my_name = \"korea\"\n",
        "MYNAME = \"코리아\"\n",
        "my2name = \"kikiki\"  \n",
        "# 2myname = \"맨앞에 숫자가 오면 안됨\"\n",
        "# my-name = \"-안되고 _만가능\"\n",
        "# my name = \"스페이스바 안됨\"\n",
        "myName1 = 1234\n",
        "myName2 = \"1234\"\n",
        "print(type(myName1))\n",
        "print(type(myName2))"
      ],
      "metadata": {
        "colab": {
          "base_uri": "https://localhost:8080/"
        },
        "id": "njJODm2DsMEr",
        "outputId": "da9b8928-daea-401f-dd8a-a1d5a0b1283b"
      },
      "execution_count": null,
      "outputs": [
        {
          "output_type": "stream",
          "name": "stdout",
          "text": [
            "<class 'int'>\n",
            "<class 'str'>\n"
          ]
        }
      ]
    },
    {
      "cell_type": "markdown",
      "source": [
        "#### 변수할당"
      ],
      "metadata": {
        "id": "YM9nusDeuuAe"
      }
    },
    {
      "cell_type": "code",
      "source": [
        "a=b=c= \"브라보콘\"\n",
        "print(a)\n",
        "print(b)\n",
        "print(c)\n"
      ],
      "metadata": {
        "colab": {
          "base_uri": "https://localhost:8080/"
        },
        "id": "Kh6BwSvwuzrX",
        "outputId": "3e277a29-0dfc-442c-db94-f306bc6f67eb"
      },
      "execution_count": null,
      "outputs": [
        {
          "output_type": "stream",
          "name": "stdout",
          "text": [
            "브라보콘\n",
            "브라보콘\n",
            "브라보콘\n"
          ]
        }
      ]
    },
    {
      "cell_type": "code",
      "source": [
        "x,y,z = \"딸기\", \"포도\", \"바나나\"          # x, y, x = \"딸기\", \"포도\", \"바나나\" / 결과값 바나나 포도 바나나 / x가 나중에 입력된 값이 바나나여서 딸기값 대신 바나나값이 나옴\n",
        "print(x)\n",
        "print(y)\n",
        "print(z)"
      ],
      "metadata": {
        "colab": {
          "base_uri": "https://localhost:8080/"
        },
        "id": "DtN5ze40vD4-",
        "outputId": "643800f6-f494-44e5-b013-f34728792ff5"
      },
      "execution_count": null,
      "outputs": [
        {
          "output_type": "stream",
          "name": "stdout",
          "text": [
            "딸기\n",
            "포도\n",
            "바나나\n"
          ]
        }
      ]
    },
    {
      "cell_type": "code",
      "source": [
        "fruits = [\"누가바\", \"쌍쌍바\", \"보석바\"]\n",
        "x, y, z = fruits\n",
        "print(x)\n",
        "print(y)\n",
        "print(z)"
      ],
      "metadata": {
        "colab": {
          "base_uri": "https://localhost:8080/"
        },
        "id": "jq_loFAQv1fA",
        "outputId": "19551a39-e762-48a7-9fa4-58f9d68e3550"
      },
      "execution_count": null,
      "outputs": [
        {
          "output_type": "stream",
          "name": "stdout",
          "text": [
            "누가바\n",
            "쌍쌍바\n",
            "보석바\n"
          ]
        }
      ]
    },
    {
      "cell_type": "code",
      "source": [
        "x = \" Life\"                    # ,로 프린트하면 공백생김, +로 프린트하면 붙음 / 값지정할때 공백을 미리넣어 공백 주기 가능 \n",
        "y = \" is\"\n",
        "z = \" beautiful!\"\n",
        "print(x, y, z)\n",
        "print(x+y+z)"
      ],
      "metadata": {
        "colab": {
          "base_uri": "https://localhost:8080/"
        },
        "id": "voF_GIOrwgGk",
        "outputId": "9e2ac2d4-e23e-40f9-8325-a95edaff2829"
      },
      "execution_count": null,
      "outputs": [
        {
          "output_type": "stream",
          "name": "stdout",
          "text": [
            " Life  is  beautiful!\n",
            " Life is beautiful!\n"
          ]
        }
      ]
    },
    {
      "cell_type": "code",
      "source": [
        "a = '1'\n",
        "b = '2'\n",
        "c = '3'\n",
        "print(a+b+c)\n",
        "print(a, b, c)"
      ],
      "metadata": {
        "colab": {
          "base_uri": "https://localhost:8080/"
        },
        "id": "wMy5svbhxES5",
        "outputId": "097a3fed-be34-4140-ffa9-6367f925557a"
      },
      "execution_count": null,
      "outputs": [
        {
          "output_type": "stream",
          "name": "stdout",
          "text": [
            "123\n",
            "1 2 3\n"
          ]
        }
      ]
    },
    {
      "cell_type": "markdown",
      "source": [
        "데이터 바꾸기  \n"
      ],
      "metadata": {
        "id": "LPno6Hs676gE"
      }
    },
    {
      "cell_type": "code",
      "source": [
        "a = 1;b = 2\n",
        "a,b = b,a\n",
        "print(a,b)"
      ],
      "metadata": {
        "colab": {
          "base_uri": "https://localhost:8080/"
        },
        "id": "AYAwe_Fb78tb",
        "outputId": "23586c7a-fbd3-48ab-8c3b-b4cf37e35ea5"
      },
      "execution_count": null,
      "outputs": [
        {
          "output_type": "stream",
          "name": "stdout",
          "text": [
            "2 1\n"
          ]
        }
      ]
    },
    {
      "cell_type": "code",
      "source": [
        "b = 2;c = 3\n",
        "# c = (b=b+c) # error"
      ],
      "metadata": {
        "id": "npPUrj4y8gaq"
      },
      "execution_count": null,
      "outputs": []
    },
    {
      "cell_type": "code",
      "source": [
        "# len()\n",
        "\n",
        "a = \"123456\"\n",
        "b = [2,3,4,5]\n",
        "print(len(a))\n",
        "print(len(b))"
      ],
      "metadata": {
        "colab": {
          "base_uri": "https://localhost:8080/"
        },
        "id": "KZfy9RwG8sfK",
        "outputId": "2f793e77-3d6a-41c7-c15a-eb823139a7e7"
      },
      "execution_count": null,
      "outputs": [
        {
          "output_type": "stream",
          "name": "stdout",
          "text": [
            "6\n",
            "4\n"
          ]
        }
      ]
    },
    {
      "cell_type": "markdown",
      "source": [
        "#### 계산기 \n"
      ],
      "metadata": {
        "id": "QpusPoIl9WDv"
      }
    },
    {
      "cell_type": "code",
      "source": [
        "a = 100\n",
        "b = 200\n",
        "result = a+b\n",
        "print(a, '+', b, '=', result)\n",
        "result  = a-b\n",
        "print(a, '-', b, '=', result)\n",
        "result  = a/b\n",
        "print(a, '/', b, '=', result)\n",
        "result  = a*b\n",
        "print(a, '*', b, '=', result)"
      ],
      "metadata": {
        "colab": {
          "base_uri": "https://localhost:8080/"
        },
        "id": "NS_2KYQS9bxR",
        "outputId": "3b4d3a2b-16b8-4800-e448-39a85db49e48"
      },
      "execution_count": null,
      "outputs": [
        {
          "output_type": "stream",
          "name": "stdout",
          "text": [
            "100 + 200 = 300\n",
            "100 - 200 = -100\n",
            "100 / 200 = 0.5\n",
            "100 * 200 = 20000\n"
          ]
        }
      ]
    },
    {
      "cell_type": "markdown",
      "source": [
        "//"
      ],
      "metadata": {
        "id": "lsw-rYewAwvb"
      }
    },
    {
      "cell_type": "code",
      "source": [
        "a = \"1234\"    \n",
        "b = 5678\n",
        "c = int(a) + b    # 문자열을 숫자로 변환시켜서 더하기\n",
        "print(c)"
      ],
      "metadata": {
        "colab": {
          "base_uri": "https://localhost:8080/"
        },
        "id": "5pPhv5RnAxWD",
        "outputId": "1e791bef-8668-447d-c254-ff3aa275e788"
      },
      "execution_count": null,
      "outputs": [
        {
          "output_type": "stream",
          "name": "stdout",
          "text": [
            "6912\n"
          ]
        }
      ]
    },
    {
      "cell_type": "code",
      "source": [
        "# 계산기 2\n",
        "num1 = int(input(\"숫자입력1: \"))\n",
        "num2 = int(input(\"숫자입력2: \"))\n",
        "\n",
        "print(type(num1))\n",
        "result = num1 + num2\n",
        "print(result)"
      ],
      "metadata": {
        "colab": {
          "base_uri": "https://localhost:8080/"
        },
        "id": "qGGmKvmsBI8y",
        "outputId": "60c2f705-89e8-4589-9bf0-7e1544345000"
      },
      "execution_count": null,
      "outputs": [
        {
          "output_type": "stream",
          "name": "stdout",
          "text": [
            "숫자입력1: 3\n",
            "숫자입력2: 4\n",
            "<class 'int'>\n",
            "7\n"
          ]
        }
      ]
    },
    {
      "cell_type": "code",
      "source": [
        "# 사칙연산 계산기\n",
        "num1 = int(input(\"숫자입력1: \"))\n",
        "num2 = int(input(\"숫자입력2: \"))\n",
        "print(type(num1))\n",
        "\n",
        "result = num1 + num2\n",
        "print(result)\n",
        "result = num1 - num2\n",
        "print(result)\n",
        "result = num1 * num2\n",
        "print(result)\n",
        "result = num1 / num2\n",
        "print(result)\n"
      ],
      "metadata": {
        "colab": {
          "base_uri": "https://localhost:8080/"
        },
        "id": "cY9HVy80B_ai",
        "outputId": "96a4d17e-f3db-4ebe-dbe0-a1d61a3e8586"
      },
      "execution_count": null,
      "outputs": [
        {
          "output_type": "stream",
          "name": "stdout",
          "text": [
            "숫자입력1: 6\n",
            "숫자입력2: 3\n",
            "<class 'int'>\n",
            "9\n",
            "3\n",
            "18\n",
            "2.0\n"
          ]
        }
      ]
    },
    {
      "cell_type": "code",
      "source": [
        "# 이름, 전화번호, 택배(g)x100, 결과값 = g x 100원 = n원입니다.\n",
        "\n",
        "name = input(\"이름: \")\n",
        "phone_Num = input(\"전화번호: \")\n",
        "weight = int(input(\"무게: \"))\n",
        "a = '결과값 = weight x 100원 입니다.'\n",
        "\n",
        "print(type(weight))\n",
        "\n",
        "result = weight * 100\n",
        "\n",
        "print(name)\n",
        "print(phone_Num)\n",
        "print(weight, 'g')\n",
        "print(result, '결과값 = weight x 100원입니다')"
      ],
      "metadata": {
        "colab": {
          "base_uri": "https://localhost:8080/"
        },
        "id": "sQhUqhoAD0Bg",
        "outputId": "baa07ecb-6764-41b2-ae55-9f8fa001ad09"
      },
      "execution_count": null,
      "outputs": [
        {
          "output_type": "stream",
          "name": "stdout",
          "text": [
            "이름: 승민\n",
            "전화번호: 7631074\n",
            "무게: 55\n",
            "<class 'int'>\n",
            "승민\n",
            "7631074\n",
            "55 g\n",
            "5500 결과값 = weight x 100원입니다\n"
          ]
        }
      ]
    }
  ]
}