{
  "nbformat": 4,
  "nbformat_minor": 0,
  "metadata": {
    "colab": {
      "provenance": [],
      "authorship_tag": "ABX9TyPfcYc/JTAM9KixVPHJ0SKQ",
      "include_colab_link": true
    },
    "kernelspec": {
      "name": "python3",
      "display_name": "Python 3"
    },
    "language_info": {
      "name": "python"
    }
  },
  "cells": [
    {
      "cell_type": "markdown",
      "metadata": {
        "id": "view-in-github",
        "colab_type": "text"
      },
      "source": [
        "<a href=\"https://colab.research.google.com/github/als3057/python/blob/main/Untitled1.ipynb\" target=\"_parent\"><img src=\"https://colab.research.google.com/assets/colab-badge.svg\" alt=\"Open In Colab\"/></a>"
      ]
    },
    {
      "cell_type": "markdown",
      "source": [
        "# ch1. 파이썬 문법  \n",
        "## 자료형  \n",
        "**숫자형**  \n",
        "* 정수 : 123, 456, 0, -30  \n",
        "* 실수 : 12, 345, -987, 65, 0.7e6  \n",
        "* 8진수 : 0o765, 0o123  \n",
        "* 16진수 : 0x00, 0x0A, 0xFF  \n",
        "\n",
        "**변수**\n",
        "* 문자, 또는 밑줄로 시작(_kim, alpha)  \n",
        "* 대소문자 구분(sum, Sum, SUM)  \n",
        "* 영문자, 숫자, 밑줄(A-z, 0-9, _)  \n",
        " ex) sun_9, Alpha, s9n)  \n",
        "* 파이썬 키워드 (print...)  \n",
        "\n",
        "\n",
        "**표기법**  \n",
        "+ 카멜(낙타) : myName  \n",
        "+ 스네이크(뱀) : my_name  \n",
        "+ 파스칼 : MyName"
      ],
      "metadata": {
        "id": "FMAvmUpviCqb"
      }
    },
    {
      "cell_type": "code",
      "source": [
        "a = 10\n",
        "b = 20\n",
        "f = \"10\"  \n",
        "c = a + b  \n",
        "print(a, b, c, f)"
      ],
      "metadata": {
        "colab": {
          "base_uri": "https://localhost:8080/"
        },
        "id": "Z9naCZyblX7U",
        "outputId": "4e300498-55a2-4bec-cb47-18b176762665"
      },
      "execution_count": null,
      "outputs": [
        {
          "output_type": "stream",
          "name": "stdout",
          "text": [
            "10 20 30 10\n"
          ]
        }
      ]
    },
    {
      "cell_type": "code",
      "source": [
        "a= 10\n",
        "b = 20\n",
        "c = \"10\" # 주석처리 = #\n",
        "d = \"20\"\n",
        "print(a+b)\n",
        "print(a,b)\n",
        "print(type(a))\n",
        "print(type(c))\n",
        "print(c+d)\n",
        "print(c,d)"
      ],
      "metadata": {
        "colab": {
          "base_uri": "https://localhost:8080/"
        },
        "id": "0dwf8TBXl-CX",
        "outputId": "744b6c6c-e694-43dd-feef-7cf32dc9759f"
      },
      "execution_count": null,
      "outputs": [
        {
          "output_type": "stream",
          "name": "stdout",
          "text": [
            "30\n",
            "10 20\n",
            "<class 'int'>\n",
            "<class 'str'>\n",
            "1020\n",
            "10 20\n"
          ]
        }
      ]
    },
    {
      "cell_type": "code",
      "execution_count": null,
      "metadata": {
        "colab": {
          "base_uri": "https://localhost:8080/"
        },
        "id": "zCwy5K0biAzQ",
        "outputId": "0d340be9-4cc7-4f21-84ca-9f6b58e749e7"
      },
      "outputs": [
        {
          "output_type": "stream",
          "name": "stdout",
          "text": [
            "3.3333333333333335 20 1\n"
          ]
        }
      ],
      "source": [
        "# 곱셈 나눗셈\n",
        "a = 10  \n",
        "b = 3\n",
        "c = a / b #몫\n",
        "e = a % b # 나머지\n",
        "print(c,d,e)\n"
      ]
    },
    {
      "cell_type": "code",
      "source": [
        "# 곱셈\n",
        "a = 10\n",
        "b = 3\n",
        "c = a * b # 곱셈\n",
        "d = a**b # 제곱\n",
        "print(c, d)"
      ],
      "metadata": {
        "colab": {
          "base_uri": "https://localhost:8080/"
        },
        "id": "6jnk4WgmrWlp",
        "outputId": "ce91af82-cad1-41d0-ac9e-011cce5b67ae"
      },
      "execution_count": null,
      "outputs": [
        {
          "output_type": "stream",
          "name": "stdout",
          "text": [
            "30 1000\n"
          ]
        }
      ]
    },
    {
      "cell_type": "markdown",
      "source": [
        "#### 문자열  \n",
        "1. 큰 따옴표 : \"Lang Kim\"  \n",
        "2. 작은 따옴표 : 'Lang Kim'  \n",
        "3. 큰 따옴표 3개 : \"\"\"대한민국\"\"\"  \n",
        "4. 작은 따옴표 3개 : '''대한민국'''  \n",
        "5. \"동해물과 백두산이 마르고 닳도록\n",
        "kim's\\\"    \n",
        "'''  \n",
        "동해물과 백두산이  \n",
        "마르고 닳도록  \n",
        "우리나라 좋은 나라  \n",
        "'''  \n"
      ],
      "metadata": {
        "id": "MZMth_MRrmdo"
      }
    },
    {
      "cell_type": "code",
      "source": [
        "# 변수  \n",
        "myName = \"Kim Lang Ki\"\n",
        "my_name = \"김랑기\"\n",
        "_my_name = \"korea\"\n",
        "MYNAME = \"코리아\"\n",
        "my2name = \"kikiki\"  \n",
        "# 2myname = \"맨앞에 숫자가 오면 안됨\"\n",
        "# my-name = \"-안되고 _만가능\"\n",
        "# my name = \"스페이스바 안됨\"\n",
        "myName1 = 1234\n",
        "myName2 = \"1234\"\n",
        "print(type(myName1))\n",
        "print(type(myName2))"
      ],
      "metadata": {
        "colab": {
          "base_uri": "https://localhost:8080/"
        },
        "id": "njJODm2DsMEr",
        "outputId": "da9b8928-daea-401f-dd8a-a1d5a0b1283b"
      },
      "execution_count": null,
      "outputs": [
        {
          "output_type": "stream",
          "name": "stdout",
          "text": [
            "<class 'int'>\n",
            "<class 'str'>\n"
          ]
        }
      ]
    },
    {
      "cell_type": "markdown",
      "source": [
        "#### 변수할당"
      ],
      "metadata": {
        "id": "YM9nusDeuuAe"
      }
    },
    {
      "cell_type": "code",
      "source": [
        "a=b=c= \"브라보콘\"\n",
        "print(a)\n",
        "print(b)\n",
        "print(c)\n"
      ],
      "metadata": {
        "colab": {
          "base_uri": "https://localhost:8080/"
        },
        "id": "Kh6BwSvwuzrX",
        "outputId": "3e277a29-0dfc-442c-db94-f306bc6f67eb"
      },
      "execution_count": null,
      "outputs": [
        {
          "output_type": "stream",
          "name": "stdout",
          "text": [
            "브라보콘\n",
            "브라보콘\n",
            "브라보콘\n"
          ]
        }
      ]
    },
    {
      "cell_type": "code",
      "source": [
        "x,y,z = \"딸기\", \"포도\", \"바나나\"          # x, y, x = \"딸기\", \"포도\", \"바나나\" / 결과값 바나나 포도 바나나 / x가 나중에 입력된 값이 바나나여서 딸기값 대신 바나나값이 나옴\n",
        "print(x)\n",
        "print(y)\n",
        "print(z)"
      ],
      "metadata": {
        "colab": {
          "base_uri": "https://localhost:8080/"
        },
        "id": "DtN5ze40vD4-",
        "outputId": "643800f6-f494-44e5-b013-f34728792ff5"
      },
      "execution_count": null,
      "outputs": [
        {
          "output_type": "stream",
          "name": "stdout",
          "text": [
            "딸기\n",
            "포도\n",
            "바나나\n"
          ]
        }
      ]
    },
    {
      "cell_type": "code",
      "source": [
        "fruits = [\"누가바\", \"쌍쌍바\", \"보석바\"]\n",
        "x, y, z = fruits\n",
        "print(x)\n",
        "print(y)\n",
        "print(z)"
      ],
      "metadata": {
        "colab": {
          "base_uri": "https://localhost:8080/"
        },
        "id": "jq_loFAQv1fA",
        "outputId": "19551a39-e762-48a7-9fa4-58f9d68e3550"
      },
      "execution_count": null,
      "outputs": [
        {
          "output_type": "stream",
          "name": "stdout",
          "text": [
            "누가바\n",
            "쌍쌍바\n",
            "보석바\n"
          ]
        }
      ]
    },
    {
      "cell_type": "code",
      "source": [
        "x = \" Life\"                    # ,로 프린트하면 공백생김, +로 프린트하면 붙음 / 값지정할때 공백을 미리넣어 공백 주기 가능 \n",
        "y = \" is\"\n",
        "z = \" beautiful!\"\n",
        "print(x, y, z)\n",
        "print(x+y+z)"
      ],
      "metadata": {
        "colab": {
          "base_uri": "https://localhost:8080/"
        },
        "id": "voF_GIOrwgGk",
        "outputId": "9e2ac2d4-e23e-40f9-8325-a95edaff2829"
      },
      "execution_count": null,
      "outputs": [
        {
          "output_type": "stream",
          "name": "stdout",
          "text": [
            " Life  is  beautiful!\n",
            " Life is beautiful!\n"
          ]
        }
      ]
    },
    {
      "cell_type": "code",
      "source": [
        "a = '1'\n",
        "b = '2'\n",
        "c = '3'\n",
        "print(a+b+c)\n",
        "print(a, b, c)"
      ],
      "metadata": {
        "colab": {
          "base_uri": "https://localhost:8080/"
        },
        "id": "wMy5svbhxES5",
        "outputId": "097a3fed-be34-4140-ffa9-6367f925557a"
      },
      "execution_count": null,
      "outputs": [
        {
          "output_type": "stream",
          "name": "stdout",
          "text": [
            "123\n",
            "1 2 3\n"
          ]
        }
      ]
    },
    {
      "cell_type": "markdown",
      "source": [
        "데이터 바꾸기  \n"
      ],
      "metadata": {
        "id": "LPno6Hs676gE"
      }
    },
    {
      "cell_type": "code",
      "source": [
        "a = 1;b = 2\n",
        "a,b = b,a\n",
        "print(a,b)"
      ],
      "metadata": {
        "colab": {
          "base_uri": "https://localhost:8080/"
        },
        "id": "AYAwe_Fb78tb",
        "outputId": "23586c7a-fbd3-48ab-8c3b-b4cf37e35ea5"
      },
      "execution_count": null,
      "outputs": [
        {
          "output_type": "stream",
          "name": "stdout",
          "text": [
            "2 1\n"
          ]
        }
      ]
    },
    {
      "cell_type": "code",
      "source": [
        "b = 2;c = 3\n",
        "# c = (b=b+c) # error"
      ],
      "metadata": {
        "id": "npPUrj4y8gaq"
      },
      "execution_count": null,
      "outputs": []
    },
    {
      "cell_type": "code",
      "source": [
        "# len()\n",
        "\n",
        "a = \"123456\"\n",
        "b = [2,3,4,5]\n",
        "print(len(a))\n",
        "print(len(b))"
      ],
      "metadata": {
        "colab": {
          "base_uri": "https://localhost:8080/"
        },
        "id": "KZfy9RwG8sfK",
        "outputId": "2f793e77-3d6a-41c7-c15a-eb823139a7e7"
      },
      "execution_count": null,
      "outputs": [
        {
          "output_type": "stream",
          "name": "stdout",
          "text": [
            "6\n",
            "4\n"
          ]
        }
      ]
    },
    {
      "cell_type": "markdown",
      "source": [
        "#### 계산기 \n"
      ],
      "metadata": {
        "id": "QpusPoIl9WDv"
      }
    },
    {
      "cell_type": "code",
      "source": [
        "a = 100\n",
        "b = 200\n",
        "result = a+b\n",
        "print(a, '+', b, '=', result)\n",
        "result  = a-b\n",
        "print(a, '-', b, '=', result)\n",
        "result  = a/b\n",
        "print(a, '/', b, '=', result)\n",
        "result  = a*b\n",
        "print(a, '*', b, '=', result)"
      ],
      "metadata": {
        "colab": {
          "base_uri": "https://localhost:8080/"
        },
        "id": "NS_2KYQS9bxR",
        "outputId": "3b4d3a2b-16b8-4800-e448-39a85db49e48"
      },
      "execution_count": null,
      "outputs": [
        {
          "output_type": "stream",
          "name": "stdout",
          "text": [
            "100 + 200 = 300\n",
            "100 - 200 = -100\n",
            "100 / 200 = 0.5\n",
            "100 * 200 = 20000\n"
          ]
        }
      ]
    },
    {
      "cell_type": "markdown",
      "source": [
        "//"
      ],
      "metadata": {
        "id": "lsw-rYewAwvb"
      }
    },
    {
      "cell_type": "code",
      "source": [
        "a = \"1234\"    \n",
        "b = 5678\n",
        "c = int(a) + b    # 문자열을 숫자로 변환시켜서 더하기\n",
        "print(c)"
      ],
      "metadata": {
        "colab": {
          "base_uri": "https://localhost:8080/"
        },
        "id": "5pPhv5RnAxWD",
        "outputId": "1e791bef-8668-447d-c254-ff3aa275e788"
      },
      "execution_count": null,
      "outputs": [
        {
          "output_type": "stream",
          "name": "stdout",
          "text": [
            "6912\n"
          ]
        }
      ]
    },
    {
      "cell_type": "code",
      "source": [
        "# 계산기 2\n",
        "num1 = int(input(\"숫자입력1: \"))\n",
        "num2 = int(input(\"숫자입력2: \"))\n",
        "\n",
        "print(type(num1))\n",
        "result = num1 + num2\n",
        "print(result)"
      ],
      "metadata": {
        "colab": {
          "base_uri": "https://localhost:8080/"
        },
        "id": "qGGmKvmsBI8y",
        "outputId": "60c2f705-89e8-4589-9bf0-7e1544345000"
      },
      "execution_count": null,
      "outputs": [
        {
          "output_type": "stream",
          "name": "stdout",
          "text": [
            "숫자입력1: 3\n",
            "숫자입력2: 4\n",
            "<class 'int'>\n",
            "7\n"
          ]
        }
      ]
    },
    {
      "cell_type": "code",
      "source": [
        "# 사칙연산 계산기\n",
        "num1 = int(input(\"숫자입력1: \"))\n",
        "num2 = int(input(\"숫자입력2: \"))\n",
        "print(type(num1))\n",
        "\n",
        "result = num1 + num2\n",
        "print(result)\n",
        "result = num1 - num2\n",
        "print(result)\n",
        "result = num1 * num2\n",
        "print(result)\n",
        "result = num1 / num2\n",
        "print(result)\n"
      ],
      "metadata": {
        "colab": {
          "base_uri": "https://localhost:8080/"
        },
        "id": "cY9HVy80B_ai",
        "outputId": "96a4d17e-f3db-4ebe-dbe0-a1d61a3e8586"
      },
      "execution_count": null,
      "outputs": [
        {
          "output_type": "stream",
          "name": "stdout",
          "text": [
            "숫자입력1: 6\n",
            "숫자입력2: 3\n",
            "<class 'int'>\n",
            "9\n",
            "3\n",
            "18\n",
            "2.0\n"
          ]
        }
      ]
    },
    {
      "cell_type": "code",
      "source": [
        "# 이름, 전화번호, 택배(g)x100, 결과값 = g x 100원 = n원입니다.\n",
        "\n",
        "name = input(\"이름: \")\n",
        "phone_Num = input(\"전화번호: \")\n",
        "weight = int(input(\"무게: \"))\n",
        "a = '결과값 = weight x 100원 입니다.'\n",
        "\n",
        "print(type(weight))\n",
        "\n",
        "result = weight * 100\n",
        "\n",
        "print(name)\n",
        "print(phone_Num)\n",
        "print(weight, 'g')\n",
        "print(result, '결과값 = weight x 100원입니다')"
      ],
      "metadata": {
        "colab": {
          "base_uri": "https://localhost:8080/"
        },
        "id": "sQhUqhoAD0Bg",
        "outputId": "fae522f9-2acd-468e-c12b-8fb7871a95bd"
      },
      "execution_count": null,
      "outputs": [
        {
          "output_type": "stream",
          "name": "stdout",
          "text": [
            "이름: 우승민\n",
            "전화번호: 01076310741\n",
            "무게: 10\n",
            "<class 'int'>\n",
            "우승민\n",
            "01076310741\n",
            "10 g\n",
            "1000 결과값 = weight x 100원입니다\n"
          ]
        }
      ]
    },
    {
      "cell_type": "markdown",
      "source": [
        "2023/03/21 화"
      ],
      "metadata": {
        "id": "Zf9NXbzAiKeO"
      }
    },
    {
      "cell_type": "markdown",
      "source": [
        "# ch2. 서식 출력 print()"
      ],
      "metadata": {
        "id": "dJaQlm26ibpN"
      }
    },
    {
      "cell_type": "code",
      "source": [
        "print(\"%d\" % 123)\n",
        "print(\"%5d\" % 123)\n",
        "print(\"%05d\" % 123)\n",
        "\n",
        "print(\"%f\" % 123.45)\n",
        "print(\"%7.1f\" % 123.45)\n",
        "print(\"%7.3f\" % 123.45)\n",
        "\n",
        "print(\"%c\" % \"1\")\n",
        "print(\"%s\" % \"가나다라\")\n",
        "print(\"%6s\" % \"가나다라\")\n",
        "print(\"%6s\" % \"abcd\")\n"
      ],
      "metadata": {
        "colab": {
          "base_uri": "https://localhost:8080/"
        },
        "id": "vDBDXofqihJL",
        "outputId": "261c43c4-d5c2-4c2b-c617-99ee957e3c60"
      },
      "execution_count": null,
      "outputs": [
        {
          "output_type": "stream",
          "name": "stdout",
          "text": [
            "123\n",
            "  123\n",
            "00123\n",
            "123.450000\n",
            "  123.5\n",
            "123.450\n",
            "1\n",
            "가나다라\n",
            "  가나다라\n",
            "  abcd\n"
          ]
        }
      ]
    },
    {
      "cell_type": "markdown",
      "source": [
        "#### 순서 지정 기능 : format"
      ],
      "metadata": {
        "id": "TNHe4qfokM0L"
      }
    },
    {
      "cell_type": "code",
      "source": [
        "print(\"{0:d} {1:5d} {2:05d}\".format(123,456,789))"
      ],
      "metadata": {
        "colab": {
          "base_uri": "https://localhost:8080/"
        },
        "id": "im1-Fzc8kUN2",
        "outputId": "f7fbbf58-9f0d-429f-ce47-207c5eb7fb57"
      },
      "execution_count": null,
      "outputs": [
        {
          "output_type": "stream",
          "name": "stdout",
          "text": [
            "123   456 00789\n"
          ]
        }
      ]
    },
    {
      "cell_type": "code",
      "source": [
        "print(\"{2:d} {1:5d} {0:05d}\".format(123,456,789))"
      ],
      "metadata": {
        "colab": {
          "base_uri": "https://localhost:8080/"
        },
        "id": "RuUbBlsikunp",
        "outputId": "bc0ed426-cb7c-4d21-c02f-542a091a45d4"
      },
      "execution_count": null,
      "outputs": [
        {
          "output_type": "stream",
          "name": "stdout",
          "text": [
            "789   456 00123\n"
          ]
        }
      ]
    },
    {
      "cell_type": "markdown",
      "source": [
        "#### 서식 출력 "
      ],
      "metadata": {
        "id": "YnTeEv-kk8Ba"
      }
    },
    {
      "cell_type": "code",
      "source": [
        "print(\"\\n 줄 바꿈 명령 \\n연습 입니다.\")"
      ],
      "metadata": {
        "colab": {
          "base_uri": "https://localhost:8080/"
        },
        "id": "SnoDUYl8k-2f",
        "outputId": "06bf08a4-345e-4216-a698-1a8fb3d22688"
      },
      "execution_count": null,
      "outputs": [
        {
          "output_type": "stream",
          "name": "stdout",
          "text": [
            "\n",
            " 줄 바꿈 명령 \n",
            "연습 입니다.\n"
          ]
        }
      ]
    },
    {
      "cell_type": "code",
      "source": [
        "print(\"\\t탭키 명령 \\t연습입니다.\")"
      ],
      "metadata": {
        "colab": {
          "base_uri": "https://localhost:8080/"
        },
        "id": "Cl5xCyNClWq0",
        "outputId": "e6efd9cc-b4df-4e6a-c988-bdc3455a10aa"
      },
      "execution_count": null,
      "outputs": [
        {
          "output_type": "stream",
          "name": "stdout",
          "text": [
            "\t탭키 명령 \t연습입니다.\n"
          ]
        }
      ]
    },
    {
      "cell_type": "code",
      "source": [
        "print(\"따옴표 글자가 \\\"강조\\\"되는 효과1\")\n",
        "print(\"따옴표 글자가 \\'강조\\'되는 효과1\")\n",
        "print(\"역슬래시 3개를 출력하려면 \\\\\\\\\\\\ 6개\")\n",
        "print(r\"\\n \\t \\ \\\\ \\ @을 그대로 출력\")"
      ],
      "metadata": {
        "colab": {
          "base_uri": "https://localhost:8080/"
        },
        "id": "ZhHfbmwTleYQ",
        "outputId": "bc0df0ba-9a6e-4a42-8523-36d3680e3956"
      },
      "execution_count": null,
      "outputs": [
        {
          "output_type": "stream",
          "name": "stdout",
          "text": [
            "따옴표 글자가 \"강조\"되는 효과1\n",
            "따옴표 글자가 '강조'되는 효과1\n",
            "역슬래시 3개를 출력하려면 \\\\\\ 6개\n",
            "\\n \\t \\ \\\\ \\ @을 그대로 출력\n"
          ]
        }
      ]
    },
    {
      "cell_type": "markdown",
      "source": [
        "#### 관계 연산자 "
      ],
      "metadata": {
        "id": "Y8YQrfOiugJ8"
      }
    },
    {
      "cell_type": "code",
      "source": [
        "a, b=10, 20\n",
        "print(a==b, a!=b, a>=b, a<=b, a>b, a<b)\n"
      ],
      "metadata": {
        "colab": {
          "base_uri": "https://localhost:8080/"
        },
        "id": "Kz4lAzUoummS",
        "outputId": "7d896009-9c48-4d39-cc9e-94992c5410b0"
      },
      "execution_count": null,
      "outputs": [
        {
          "output_type": "stream",
          "name": "stdout",
          "text": [
            "False True False True False True\n"
          ]
        }
      ]
    },
    {
      "cell_type": "markdown",
      "source": [
        "#### 논리 연산자 and, or, not"
      ],
      "metadata": {
        "id": "bHnaAR_MvNai"
      }
    },
    {
      "cell_type": "code",
      "source": [
        "a = 150\n",
        "print((a>100) and (a<200)) # 100<a<200\n",
        "print((a<100) or (a<200)) # a<100, a>200 \n",
        "print(not(a==100))        # a<=99, a>=101"
      ],
      "metadata": {
        "colab": {
          "base_uri": "https://localhost:8080/"
        },
        "id": "jSpX_vEvvREd",
        "outputId": "4dc02689-cdbe-43cf-e08c-87aae34284e7"
      },
      "execution_count": null,
      "outputs": [
        {
          "output_type": "stream",
          "name": "stdout",
          "text": [
            "True\n",
            "True\n",
            "True\n"
          ]
        }
      ]
    },
    {
      "cell_type": "code",
      "source": [
        "if(1):\n",
        "  print(\"참이면 실행되어 보임\")\n",
        "if(0):\n",
        "  print(\"거짓이면 안보임\")"
      ],
      "metadata": {
        "colab": {
          "base_uri": "https://localhost:8080/"
        },
        "id": "ey6oCqpewcKC",
        "outputId": "2f986d3d-f3ea-4cea-e6df-2947c410935c"
      },
      "execution_count": null,
      "outputs": [
        {
          "output_type": "stream",
          "name": "stdout",
          "text": [
            "참이면 실행되어 보임\n"
          ]
        }
      ]
    },
    {
      "cell_type": "markdown",
      "source": [
        "#### 퀴즈2 // 몫, % 나머지 int(input(\"입력:\") 지폐 금액입력 후 동전으로 교환시 (500원, 100원, 50원, 10원) \n",
        "money, c500, c100, c50, c10\n",
        "받은돈 : ?원\n",
        "500원 : ?개\n",
        "100원 : ?개\n",
        "50원 : ?개\n",
        "10원 : ?개\n",
        "나머지 : ?원 \n",
        "\n",
        "복습하기!!!!!!!!!!!!!!!!!!\n"
      ],
      "metadata": {
        "id": "NeR_LEq6xANn"
      }
    },
    {
      "cell_type": "code",
      "source": [
        "money, c500, c100, c50, c10 = 0, 0, 0, 0, 0\n",
        "\n",
        "money = int(input(\"동전으로 교환할 돈은?: \"))\n",
        "temp = money\n",
        "\n",
        "c500 = money // 500 # 몫을 구할때 // 사용함으로써 몫만 남음\n",
        "money = money % 500 # 500원으로 나눴을때 나머지 / 약자로 썼을때 money %=500\n",
        "c100 = money // 100\n",
        "money %= 100\n",
        "c50 = money // 50\n",
        "money %= 50\n",
        "c10 = money // 10\n",
        "money %= 10\n",
        "\n",
        "print(\"입력받은 돈은 %d원\" % temp)\n",
        "print(\"500원 동전 : %d 개\" % c500)\n",
        "print(\"100원 동전 : %d 개\" % c100)\n",
        "print(\"50원 동전 : %d 개\" % c50)\n",
        "print(\"10원 동전 : %d 개\" % c10)\n",
        "print(\"나머지 잔돈 : %d 원\" % money)\n",
        "\n",
        "\n",
        "\n",
        "\n"
      ],
      "metadata": {
        "colab": {
          "base_uri": "https://localhost:8080/"
        },
        "id": "brT2sw_6yQHU",
        "outputId": "e8e33592-c033-4057-cdb7-69e84b7f0caa"
      },
      "execution_count": null,
      "outputs": [
        {
          "output_type": "stream",
          "name": "stdout",
          "text": [
            "동전으로 교환할 돈은?: 5400\n",
            "입력받은 돈은 5400원\n",
            "500원 동전 : 10 개\n",
            "100원 동전 : 4 개\n",
            "50원 동전 : 0 개\n",
            "10원 동전 : 0 개\n",
            "나머지 잔돈 : 0 원\n"
          ]
        }
      ]
    },
    {
      "cell_type": "markdown",
      "source": [
        "#### 조건문"
      ],
      "metadata": {
        "id": "5IGw4KFR6phV"
      }
    },
    {
      "cell_type": "code",
      "source": [
        "a = 50\n",
        "if(a < 100):\n",
        "  print(\"100보다 작으면 참\")\n",
        "  print(\"거짓이면 이문장은 보이지지 않음\") # 들여쓴 상태로 계속쓰면 if문 영향을 계속받음\n",
        "print(\"프로그램 끝\")\n"
      ],
      "metadata": {
        "colab": {
          "base_uri": "https://localhost:8080/"
        },
        "id": "QbTv5oqA6rJX",
        "outputId": "e344689a-0b23-409f-ed17-1fb99aee14e0"
      },
      "execution_count": null,
      "outputs": [
        {
          "output_type": "stream",
          "name": "stdout",
          "text": [
            "100보다 작으면 참\n",
            "거짓이면 이문장은 보이지지 않음\n",
            "프로그램 끝\n"
          ]
        }
      ]
    },
    {
      "cell_type": "markdown",
      "source": [
        "#### else"
      ],
      "metadata": {
        "id": "UvoR4n3P9qy6"
      }
    },
    {
      "cell_type": "code",
      "source": [
        "a = 200\n",
        "if(a<100):\n",
        "  print(\"참 : 100보다 작음\")\n",
        "else:\n",
        "  print(\"거짓 : 조건보다 크면\")\n",
        "print(\"프로그램 끝\")"
      ],
      "metadata": {
        "colab": {
          "base_uri": "https://localhost:8080/"
        },
        "id": "DTc3_w5o7Yux",
        "outputId": "56e14cf6-9e96-4af6-ab08-fe20baa60c9b"
      },
      "execution_count": null,
      "outputs": [
        {
          "output_type": "stream",
          "name": "stdout",
          "text": [
            "거짓 : 조건보다 크면\n",
            "프로그램 끝\n"
          ]
        }
      ]
    },
    {
      "cell_type": "markdown",
      "source": [
        "#### 홀짝 구분"
      ],
      "metadata": {
        "id": "e2cnU23f9YvX"
      }
    },
    {
      "cell_type": "code",
      "source": [
        "# 홀짝 구분\n",
        "a = int(input(\"숫자 입력: \"))\n",
        "if(a%2==0):\n",
        "  print(\"짝수 입니다\")\n",
        "else:\n",
        "  print(\"홀수 입니다\")"
      ],
      "metadata": {
        "colab": {
          "base_uri": "https://localhost:8080/"
        },
        "id": "Oabj2mD8749n",
        "outputId": "49c73ca3-d590-4db2-bfff-375aec60ea4e"
      },
      "execution_count": null,
      "outputs": [
        {
          "output_type": "stream",
          "name": "stdout",
          "text": [
            "숫자 입력: 22\n",
            "짝수 입니다\n"
          ]
        }
      ]
    },
    {
      "cell_type": "markdown",
      "source": [
        "#### if문 안에 if문"
      ],
      "metadata": {
        "id": "ltJByhE89H7M"
      }
    },
    {
      "cell_type": "code",
      "source": [
        "a = int(input(\"숫자입력: \"))\n",
        "if(a>50):\n",
        "  if(a<100):\n",
        "    print(\"50<a<100\")\n",
        "  else:\n",
        "    print(\"a>100\")\n",
        "else:\n",
        "  if(a>25):\n",
        "    print(\"25<a<50\")\n",
        "  else:\n",
        "    print(\"a<25\")\n",
        "  "
      ],
      "metadata": {
        "colab": {
          "base_uri": "https://localhost:8080/"
        },
        "id": "klwgsG5C84aV",
        "outputId": "0c25ec8a-f888-4046-aa4e-a58c0d4ab5ca"
      },
      "execution_count": null,
      "outputs": [
        {
          "output_type": "stream",
          "name": "stdout",
          "text": [
            "숫자입력: 33\n",
            "25<a<50\n"
          ]
        }
      ]
    },
    {
      "cell_type": "markdown",
      "source": [
        "#### 추가시킬때는 append"
      ],
      "metadata": {
        "id": "Y1LBSGrvAHDn"
      }
    },
    {
      "cell_type": "code",
      "source": [
        "fruit = ['사과', '배', '샤인머스켓', '바나나']\n",
        "fruit.append('망고')    # 추가할때는 append\n",
        "if '망고' in fruit :\n",
        "  print(\"망고가 있습니다.\")\n",
        "print(fruit)"
      ],
      "metadata": {
        "colab": {
          "base_uri": "https://localhost:8080/"
        },
        "id": "E3h_fcd-_r1n",
        "outputId": "9024a53d-5927-4067-941b-6ba3fc52e097"
      },
      "execution_count": null,
      "outputs": [
        {
          "output_type": "stream",
          "name": "stdout",
          "text": [
            "망고가 있습니다.\n",
            "['사과', '배', '샤인머스켓', '바나나', '망고']\n"
          ]
        }
      ]
    },
    {
      "cell_type": "markdown",
      "source": [
        "#### for문"
      ],
      "metadata": {
        "id": "nS9V5PsFA5Km"
      }
    },
    {
      "cell_type": "code",
      "source": [
        "for i in range(1, 3, 1):  # 시작값, 끝값 + 1, 증가값\n",
        "  print(\"%d 안녕하세요.\" % i)\n",
        "print(\"환영합니다. ^^*\")"
      ],
      "metadata": {
        "colab": {
          "base_uri": "https://localhost:8080/"
        },
        "id": "CoJ9dNEtAqMO",
        "outputId": "72ab7b2b-2df6-4314-81d3-b3341ed5e74e"
      },
      "execution_count": null,
      "outputs": [
        {
          "output_type": "stream",
          "name": "stdout",
          "text": [
            "1 안녕하세요.\n",
            "2 안녕하세요.\n",
            "환영합니다. ^^*\n"
          ]
        }
      ]
    },
    {
      "cell_type": "markdown",
      "source": [
        "#### random"
      ],
      "metadata": {
        "id": "xCy0IBwKDQ69"
      }
    },
    {
      "cell_type": "code",
      "source": [
        "import random\n",
        "num = []\n",
        "for i in range(0,6): # 증가값이 1일때는 생략가능\n",
        "  num.append(random.randrange(1,46))\n",
        "print(\"생성 리스트\", num)"
      ],
      "metadata": {
        "colab": {
          "base_uri": "https://localhost:8080/"
        },
        "id": "bdLIRPVqB54z",
        "outputId": "4dbd0625-570d-40a4-f584-d1a30d05d939"
      },
      "execution_count": null,
      "outputs": [
        {
          "output_type": "stream",
          "name": "stdout",
          "text": [
            "생성 리스트 [13, 6, 1, 7, 31, 30]\n"
          ]
        }
      ]
    },
    {
      "cell_type": "code",
      "source": [
        "for i in range(1, 9, 1):\n",
        "  print(\"%d\" % i, end = '\\t') # 가로로 찍을때 end = ''   띄울때는 end = ' '\n",
        "print(\"\\n\")\n",
        "for i in range(1, 9, 1):\n",
        "  print(\"%d\" % i, end='\\t')"
      ],
      "metadata": {
        "colab": {
          "base_uri": "https://localhost:8080/"
        },
        "id": "PelIn5HsDfcg",
        "outputId": "ac7b86c2-e4a0-4794-8e22-ea11e8a5efd8"
      },
      "execution_count": null,
      "outputs": [
        {
          "output_type": "stream",
          "name": "stdout",
          "text": [
            "1\t2\t3\t4\t5\t6\t7\t8\t\n",
            "\n",
            "1\t2\t3\t4\t5\t6\t7\t8\t"
          ]
        }
      ]
    },
    {
      "cell_type": "code",
      "source": [
        "sum = 0\n",
        "for i in range(1,11,1):\n",
        "  sum = sum + i\n",
        "print(\"1부터 10까지의 합:%d\" % sum)"
      ],
      "metadata": {
        "colab": {
          "base_uri": "https://localhost:8080/"
        },
        "id": "IrwmzsnLERcW",
        "outputId": "e56051af-85f0-4266-a95d-76c727d3bcfd"
      },
      "execution_count": null,
      "outputs": [
        {
          "output_type": "stream",
          "name": "stdout",
          "text": [
            "1부터 10까지의 합:55\n"
          ]
        }
      ]
    },
    {
      "cell_type": "code",
      "source": [
        "sum, num = 0, 0\n",
        "num = int(input(\"숫자입력: \"))\n",
        "for i in range(1, num+1, 1):\n",
        "  sum = sum + i\n",
        "print(\"1~n까지의 합:%d\" % sum)\n",
        "\n"
      ],
      "metadata": {
        "colab": {
          "base_uri": "https://localhost:8080/"
        },
        "id": "UHdqpugzFCm-",
        "outputId": "2d38a441-166b-4026-a2db-87ab29e9fae2"
      },
      "execution_count": null,
      "outputs": [
        {
          "output_type": "stream",
          "name": "stdout",
          "text": [
            "숫자입력: 100\n",
            "1~n까지의 합:5050\n"
          ]
        }
      ]
    },
    {
      "cell_type": "markdown",
      "source": [
        "#### 구구단"
      ],
      "metadata": {
        "id": "6iyhsb8wFxwI"
      }
    },
    {
      "cell_type": "code",
      "source": [
        "i, j=2, 0\n",
        "for j in range(1,10,1): # 1부터 9까지 1씩 증가시켜라\n",
        "  print(\"%d x %d = %2d\" % (i, j, i * j))"
      ],
      "metadata": {
        "colab": {
          "base_uri": "https://localhost:8080/"
        },
        "id": "E3AvqEtoFzbX",
        "outputId": "5811cc0c-a71a-4811-e121-658de0553240"
      },
      "execution_count": null,
      "outputs": [
        {
          "output_type": "stream",
          "name": "stdout",
          "text": [
            "2 x 1 =  2\n",
            "2 x 2 =  4\n",
            "2 x 3 =  6\n",
            "2 x 4 =  8\n",
            "2 x 5 = 10\n",
            "2 x 6 = 12\n",
            "2 x 7 = 14\n",
            "2 x 8 = 16\n",
            "2 x 9 = 18\n"
          ]
        }
      ]
    },
    {
      "cell_type": "code",
      "source": [
        "i, j, k= 0, 0, 0\n",
        "for i in range(2,10,1): # 1부터 9까지 1씩 증가시켜라\n",
        "  for j in range(1,10,1):\n",
        "  print(\"%d x %d = %2d\" % (i, j, i * j))\n",
        "print(\" \")"
      ],
      "metadata": {
        "colab": {
          "base_uri": "https://localhost:8080/",
          "height": 130
        },
        "id": "_gatPhq7Gsg4",
        "outputId": "061f9ff5-a1d5-4894-ae97-419c7aed88ba"
      },
      "execution_count": null,
      "outputs": [
        {
          "output_type": "error",
          "ename": "IndentationError",
          "evalue": "ignored",
          "traceback": [
            "\u001b[0;36m  File \u001b[0;32m\"<ipython-input-112-8c6970c43fcc>\"\u001b[0;36m, line \u001b[0;32m4\u001b[0m\n\u001b[0;31m    print(\"%d x %d = %2d\" % (i, j, i * j))\u001b[0m\n\u001b[0m    ^\u001b[0m\n\u001b[0;31mIndentationError\u001b[0m\u001b[0;31m:\u001b[0m expected an indented block\n"
          ]
        }
      ]
    },
    {
      "cell_type": "markdown",
      "source": [
        "#### quiz3 / 구구단을 만들고 2, 3, 4, 5 줄바꿔서 6, 7, 8, 9을 출력하시오"
      ],
      "metadata": {
        "id": "57Lb-HYLHYOI"
      }
    },
    {
      "cell_type": "code",
      "source": [
        "i, j=2, 0\n",
        "for j in range(1,10,1):\n",
        "  print(\"%d x %d = %2d\" % (i, j, i * j))\n",
        "\n",
        "i, j=3, 0\n",
        "for j in range(1,10,1):\n",
        "  print(end = '' \"%d x %d = %2d\" % (i, j, i * j),)"
      ],
      "metadata": {
        "colab": {
          "base_uri": "https://localhost:8080/"
        },
        "id": "f9Rv_zF6IHas",
        "outputId": "5464f2a4-1e37-4c1a-877b-6bf7af0fc4a5"
      },
      "execution_count": null,
      "outputs": [
        {
          "output_type": "stream",
          "name": "stdout",
          "text": [
            "2 x 1 =  2\n",
            "2 x 2 =  4\n",
            "2 x 3 =  6\n",
            "2 x 4 =  8\n",
            "2 x 5 = 10\n",
            "2 x 6 = 12\n",
            "2 x 7 = 14\n",
            "2 x 8 = 16\n",
            "2 x 9 = 18\n",
            "3 x 1 =  33 x 2 =  63 x 3 =  93 x 4 = 123 x 5 = 153 x 6 = 183 x 7 = 213 x 8 = 243 x 9 = 27"
          ]
        }
      ]
    },
    {
      "cell_type": "markdown",
      "source": [
        "# CH3. 자료형\n",
        "\n",
        "## 1. 인덱스 , 슬라이싱"
      ],
      "metadata": {
        "id": "kaQxveqYh99f"
      }
    },
    {
      "cell_type": "code",
      "source": [
        "a = [1, 2, 3, 4, 5, 6, 7, 8, 9]\n",
        "print(a)\n",
        "print(a[0])"
      ],
      "metadata": {
        "colab": {
          "base_uri": "https://localhost:8080/"
        },
        "id": "IEdJYCAjiEi1",
        "outputId": "e4e19ad2-8efe-412a-d0c7-fa53107758c1"
      },
      "execution_count": null,
      "outputs": [
        {
          "output_type": "stream",
          "name": "stdout",
          "text": [
            "[1, 2, 3, 4, 5, 6, 7, 8, 9]\n",
            "1\n"
          ]
        }
      ]
    },
    {
      "cell_type": "code",
      "source": [
        "a = [1, 2, 3, 4, 5, 6, 7, 8, 9]\n",
        "print(a[-1])    #   왼쪽부터 꺼내오기 = 0 / 오른쪽부터 꺼내기 = -1\n",
        "print(a[-2])"
      ],
      "metadata": {
        "colab": {
          "base_uri": "https://localhost:8080/"
        },
        "id": "BULZ7Od9j03f",
        "outputId": "c4914f14-5615-460d-c098-df710ad6dc7d"
      },
      "execution_count": null,
      "outputs": [
        {
          "output_type": "stream",
          "name": "stdout",
          "text": [
            "9\n",
            "8\n"
          ]
        }
      ]
    },
    {
      "cell_type": "code",
      "source": [
        "a = [1, 2, 3, 4, 5, 6, 7, 8, 9]\n",
        "print(a[1:9:2])       # 짝수\n",
        "print(a[0:9:2])       # 홀수"
      ],
      "metadata": {
        "colab": {
          "base_uri": "https://localhost:8080/"
        },
        "id": "mwQBqbi6kDuN",
        "outputId": "d0b89a59-8b6f-405f-dc92-9b198c567851"
      },
      "execution_count": null,
      "outputs": [
        {
          "output_type": "stream",
          "name": "stdout",
          "text": [
            "[2, 4, 6, 8]\n",
            "[1, 3, 5, 7, 9]\n"
          ]
        }
      ]
    },
    {
      "cell_type": "code",
      "source": [
        "a = [1, 2, 3, 4, 5, 6, 7, 8, 9]\n",
        "print(a[:4])        # 앞의값 생략 : 비우기\n",
        "print(a[5:])        # 뒷값 생략 : 비우기"
      ],
      "metadata": {
        "colab": {
          "base_uri": "https://localhost:8080/"
        },
        "id": "okiy6ydekW5Z",
        "outputId": "e5809be6-cc06-4af5-e411-adde22204362"
      },
      "execution_count": null,
      "outputs": [
        {
          "output_type": "stream",
          "name": "stdout",
          "text": [
            "[1, 2, 3, 4]\n",
            "[6, 7, 8, 9]\n"
          ]
        }
      ]
    },
    {
      "cell_type": "code",
      "source": [
        "a = [1, 2, 3, 4, 5, 6, 7, 8, 9]\n",
        "print(len(a))\n",
        "print(len(a)-1)"
      ],
      "metadata": {
        "colab": {
          "base_uri": "https://localhost:8080/"
        },
        "id": "m2n6xI7yk2w0",
        "outputId": "1a9ef1ec-de50-41e5-a286-98eb2c2e849c"
      },
      "execution_count": null,
      "outputs": [
        {
          "output_type": "stream",
          "name": "stdout",
          "text": [
            "9\n",
            "8\n"
          ]
        }
      ]
    },
    {
      "cell_type": "code",
      "source": [
        "b = [1, 2, 3, 4, 5, 6]        # 숫자 1은 0번째 자리임\n",
        "b[0] = \"apple\"\n",
        "b[1] = 99\n",
        "b[5] = [1, 2, 3]\n",
        "print(b)"
      ],
      "metadata": {
        "colab": {
          "base_uri": "https://localhost:8080/"
        },
        "id": "IegyKwOPlLs8",
        "outputId": "8383af76-cbe3-49be-a0d5-804b7893646b"
      },
      "execution_count": null,
      "outputs": [
        {
          "output_type": "stream",
          "name": "stdout",
          "text": [
            "['apple', 99, 3, 4, 5, [1, 2, 3]]\n"
          ]
        }
      ]
    },
    {
      "cell_type": "markdown",
      "source": [
        "#### list add"
      ],
      "metadata": {
        "id": "XTFlpHvTmMMa"
      }
    },
    {
      "cell_type": "code",
      "source": [
        "a = [1, 2, 3]\n",
        "b = [4, 5, 6]\n",
        "c = a+b\n",
        "print(a+b)\n",
        "print(c)        # 리스트끼리 합치기가 가능하다.\n",
        "print(c*3)"
      ],
      "metadata": {
        "colab": {
          "base_uri": "https://localhost:8080/"
        },
        "id": "L92iNq4zmQC9",
        "outputId": "9d7e74bc-72e0-486c-9ce2-fa62ef99251c"
      },
      "execution_count": null,
      "outputs": [
        {
          "output_type": "stream",
          "name": "stdout",
          "text": [
            "[1, 2, 3, 4, 5, 6]\n",
            "[1, 2, 3, 4, 5, 6]\n",
            "[1, 2, 3, 4, 5, 6, 1, 2, 3, 4, 5, 6, 1, 2, 3, 4, 5, 6]\n"
          ]
        }
      ]
    },
    {
      "cell_type": "markdown",
      "source": [
        "#### 함수 이용 // 시험에 많이나올거다"
      ],
      "metadata": {
        "id": "6mh_09xBmvX4"
      }
    },
    {
      "cell_type": "code",
      "source": [
        "k = [\"a\", \"b\", \"c\", \"d\", \"c\"]\n",
        "k.remove(\"c\")       # 리스트중에 하나만 삭제할때는 .remove / 중복일 경우 젤 앞쪽에 있는 c를 삭제함\n",
        "print(k)\n",
        "\n",
        "k.append(\"f\")       # 리스트중에 맨 뒤에 추가 .append\n",
        "print(k)"
      ],
      "metadata": {
        "colab": {
          "base_uri": "https://localhost:8080/"
        },
        "id": "5mYZ4bu6myYP",
        "outputId": "b18c10d0-3c8c-4f00-d00b-5fe5377a318a"
      },
      "execution_count": null,
      "outputs": [
        {
          "output_type": "stream",
          "name": "stdout",
          "text": [
            "['a', 'b', 'd', 'c']\n",
            "['a', 'b', 'd', 'c', 'f']\n"
          ]
        }
      ]
    },
    {
      "cell_type": "code",
      "source": [
        "k = [1, 2, 3, 4, 5]\n",
        "k.remove(3)       # 리스트중에 하나만 삭제할때는 .remove \n",
        "print(k)\n",
        "\n",
        "k.append(6)       # 리스트중에 맨 뒤에 추가 .append\n",
        "print(k)"
      ],
      "metadata": {
        "colab": {
          "base_uri": "https://localhost:8080/"
        },
        "id": "ShrLuprDnssK",
        "outputId": "5d15ef1b-e6a7-4e0a-d0e5-e78f1a582d08"
      },
      "execution_count": null,
      "outputs": [
        {
          "output_type": "stream",
          "name": "stdout",
          "text": [
            "[1, 2, 4, 5]\n",
            "[1, 2, 4, 5, 6]\n"
          ]
        }
      ]
    },
    {
      "cell_type": "code",
      "source": [
        "j = \"God is love!\"\n",
        "print(j[:3])        # 처음값만 표시 :3\n",
        "print(j[4:6])       # 중간값만 표시 4:6\n",
        "print(j[7:])        # 마지막값만 표시 7:\n",
        "                    # 자릿수 세서 넣기"
      ],
      "metadata": {
        "colab": {
          "base_uri": "https://localhost:8080/"
        },
        "id": "75kuG5bQn8-i",
        "outputId": "a4b0166d-487c-4215-a043-8b738a8b81fc"
      },
      "execution_count": null,
      "outputs": [
        {
          "output_type": "stream",
          "name": "stdout",
          "text": [
            "God\n",
            "is\n",
            "love!\n"
          ]
        }
      ]
    },
    {
      "cell_type": "code",
      "source": [
        "j = \" God is love! \"\n",
        "print(j.upper())        # 싹다 대문자 .upper\n",
        "print(j.lower())        # 싹다 소문자 .lower\n",
        "print(j.strip())        # 공백없이 땅기기 .strip"
      ],
      "metadata": {
        "colab": {
          "base_uri": "https://localhost:8080/"
        },
        "id": "Ri0D-l1dooYg",
        "outputId": "0940ccc7-94f3-4f41-c6ed-b949b2818683"
      },
      "execution_count": null,
      "outputs": [
        {
          "output_type": "stream",
          "name": "stdout",
          "text": [
            " GOD IS LOVE! \n",
            " god is love! \n",
            "God is love!\n"
          ]
        }
      ]
    },
    {
      "cell_type": "code",
      "source": [
        "a = \"apple, mango, banana\"\n",
        "print(a.split(\",\"))       # 콤마로 분류해주기 .split"
      ],
      "metadata": {
        "colab": {
          "base_uri": "https://localhost:8080/"
        },
        "id": "dTHt2C9psz48",
        "outputId": "a4c2ef6b-e7eb-422e-f916-79d9218d22ef"
      },
      "execution_count": null,
      "outputs": [
        {
          "output_type": "stream",
          "name": "stdout",
          "text": [
            "['apple', ' mango', ' banana']\n"
          ]
        }
      ]
    },
    {
      "cell_type": "code",
      "source": [
        "a = [\"apple\", \"banana\", \"cherry\"]\n",
        "a.append(\"Orange\")        # 맨뒤 추가 .append\n",
        "print(a)"
      ],
      "metadata": {
        "colab": {
          "base_uri": "https://localhost:8080/"
        },
        "id": "W2HJn5zTtJte",
        "outputId": "198d4312-c5a5-4ed7-fca7-82b57efc748f"
      },
      "execution_count": null,
      "outputs": [
        {
          "output_type": "stream",
          "name": "stdout",
          "text": [
            "['apple', 'banana', 'cherry', 'Orange']\n"
          ]
        }
      ]
    },
    {
      "cell_type": "code",
      "source": [
        "a = [\"apple\", \"banana\", \"cherry\"]\n",
        "a.insert(1,\"Orange\")        # 지정한 곳에 추가 .insert (자리 지정까지)\n",
        "print(a)"
      ],
      "metadata": {
        "colab": {
          "base_uri": "https://localhost:8080/"
        },
        "id": "y1IeC4nctdYj",
        "outputId": "ec9e330c-f2fe-4092-eb07-bda6cdb468f7"
      },
      "execution_count": null,
      "outputs": [
        {
          "output_type": "stream",
          "name": "stdout",
          "text": [
            "['apple', 'Orange', 'banana', 'cherry']\n"
          ]
        }
      ]
    },
    {
      "cell_type": "code",
      "source": [
        "a = [\"apple\", \"banana\", \"cherry\", \"banana\"]\n",
        "a.remove(\"banana\")\n",
        "print(a)"
      ],
      "metadata": {
        "colab": {
          "base_uri": "https://localhost:8080/"
        },
        "id": "GOcLIDPut6kM",
        "outputId": "aaab1da7-fa4d-416a-dba6-1c32802b7806"
      },
      "execution_count": null,
      "outputs": [
        {
          "output_type": "stream",
          "name": "stdout",
          "text": [
            "['apple', 'cherry', 'banana']\n"
          ]
        }
      ]
    },
    {
      "cell_type": "code",
      "source": [
        "a= [\"apple\", \"banana\", \"cherry\"]\n",
        "a.pop()       # 맨 뒤 지워줌\n",
        "print(a)\n",
        "\n",
        "a.pop(1)        # 자리수 지정 지우기가능\n",
        "print(a)"
      ],
      "metadata": {
        "colab": {
          "base_uri": "https://localhost:8080/"
        },
        "id": "g1_jrq8kuBkt",
        "outputId": "7a446e03-4738-4983-edc1-1a1e31033e13"
      },
      "execution_count": null,
      "outputs": [
        {
          "output_type": "stream",
          "name": "stdout",
          "text": [
            "['apple', 'banana']\n",
            "['apple']\n"
          ]
        }
      ]
    },
    {
      "cell_type": "markdown",
      "source": [
        "#### for문 같이"
      ],
      "metadata": {
        "id": "6W3n2feYvA7N"
      }
    },
    {
      "cell_type": "code",
      "source": [
        "fruit = [\"사과\", \"배\", \"오렌지\"]\n",
        "for i in fruit:\n",
        "    print(i)"
      ],
      "metadata": {
        "colab": {
          "base_uri": "https://localhost:8080/"
        },
        "id": "JDgdhHfEvD1g",
        "outputId": "55f9366c-38d8-4876-daee-ca8bdef8e9f1"
      },
      "execution_count": null,
      "outputs": [
        {
          "output_type": "stream",
          "name": "stdout",
          "text": [
            "사과\n",
            "배\n",
            "오렌지\n"
          ]
        }
      ]
    },
    {
      "cell_type": "code",
      "source": [
        "fruit = [\"감\", \"밤\", \"대추\", \"배\"]\n",
        "for i in range(len(fruit)):       # 길이만큼 다시 반복\n",
        "  print(fruit)"
      ],
      "metadata": {
        "colab": {
          "base_uri": "https://localhost:8080/"
        },
        "id": "spAlxcILvXEK",
        "outputId": "0962b53a-be17-471e-fa68-c6020314f6f7"
      },
      "execution_count": null,
      "outputs": [
        {
          "output_type": "stream",
          "name": "stdout",
          "text": [
            "['감', '밤', '대추', '배']\n",
            "['감', '밤', '대추', '배']\n",
            "['감', '밤', '대추', '배']\n",
            "['감', '밤', '대추', '배']\n"
          ]
        }
      ]
    },
    {
      "cell_type": "markdown",
      "source": [
        "#### SORT : 정렬"
      ],
      "metadata": {
        "id": "xBqgccxqvyTh"
      }
    },
    {
      "cell_type": "code",
      "source": [
        "a = [7, 5, 3, 8, 2, 0, 1, 4, 6, 9]\n",
        "a.sort()        # 순서대로 정렬 .sort\n",
        "print(a)"
      ],
      "metadata": {
        "colab": {
          "base_uri": "https://localhost:8080/"
        },
        "id": "YIF3JUWwv0DS",
        "outputId": "1ab716c5-3db1-4669-9fd9-af9332e0bfd3"
      },
      "execution_count": null,
      "outputs": [
        {
          "output_type": "stream",
          "name": "stdout",
          "text": [
            "[0, 1, 2, 3, 4, 5, 6, 7, 8, 9]\n"
          ]
        }
      ]
    },
    {
      "cell_type": "code",
      "source": [
        "a = [7, 5, 3, 8, 2, 0, 1, 4, 6, 9]\n",
        "a.sort(reverse = True)        # 역순으로 정렬 .sort(reverse = True) \n",
        "print(a)\n",
        "\n",
        "a.sort()\n",
        "print(a)"
      ],
      "metadata": {
        "colab": {
          "base_uri": "https://localhost:8080/"
        },
        "id": "bR_eHStJwIXu",
        "outputId": "cd2ff199-6637-492f-9b0c-e93446cd3d52"
      },
      "execution_count": null,
      "outputs": [
        {
          "output_type": "stream",
          "name": "stdout",
          "text": [
            "[9, 8, 7, 6, 5, 4, 3, 2, 1, 0]\n",
            "[0, 1, 2, 3, 4, 5, 6, 7, 8, 9]\n"
          ]
        }
      ]
    },
    {
      "cell_type": "code",
      "source": [
        "fruit = [\"Kiwi\", \"apple\", \"Orange\", \"banana\"]\n",
        "fruit.sort()        # 문자를 sort시 대문자 소문자 순 정렬, 그 이후로 a,b,c 순으로 정렬\n",
        "print(fruit)\n",
        "\n",
        "fruit.sort(key=str.lower)       # 대소문자 무시 알파벳순 정렬 .sort(key=str.lower) \n",
        "print(fruit)\n",
        "\n",
        "fruit.reverse()\n",
        "print(fruit)"
      ],
      "metadata": {
        "colab": {
          "base_uri": "https://localhost:8080/"
        },
        "id": "6ER43YA6wiuP",
        "outputId": "f32068ed-3ab5-428d-e843-7b4e570ba72e"
      },
      "execution_count": null,
      "outputs": [
        {
          "output_type": "stream",
          "name": "stdout",
          "text": [
            "['Kiwi', 'Orange', 'apple', 'banana']\n",
            "['apple', 'banana', 'Kiwi', 'Orange']\n",
            "['Orange', 'Kiwi', 'banana', 'apple']\n"
          ]
        }
      ]
    },
    {
      "cell_type": "markdown",
      "source": [
        "#### List 복사"
      ],
      "metadata": {
        "id": "g19rYLnHzTSn"
      }
    },
    {
      "cell_type": "code",
      "source": [
        "fruit = [\"Kiwi\", \"apple\", \"Orange\", \"banana\"]\n",
        "mylist = fruit.copy()       # fruit과 같이 mylist에 복사하기 .copy()\n",
        "print(mylist)\n",
        "cylist = list(fruit)        # fruit과 같이 cylist에 복사하기 list(fruit)\n",
        "print(cylist)"
      ],
      "metadata": {
        "colab": {
          "base_uri": "https://localhost:8080/"
        },
        "id": "0tA9Z6NPxURv",
        "outputId": "0775afb6-fd1b-4dc6-fe58-47abe17e0b48"
      },
      "execution_count": null,
      "outputs": [
        {
          "output_type": "stream",
          "name": "stdout",
          "text": [
            "['Kiwi', 'apple', 'Orange', 'banana']\n",
            "['Kiwi', 'apple', 'Orange', 'banana']\n"
          ]
        }
      ]
    },
    {
      "cell_type": "markdown",
      "source": [
        "#### Tuple 튜플"
      ],
      "metadata": {
        "id": "4-oA_-Fjz7ui"
      }
    },
    {
      "cell_type": "code",
      "source": [
        "l = [1, 2, 3]\n",
        "t = (5, 6, 7)       # 영문자 l, t로 차이 나는것이 아닌 괄호로 인해 차이나기때문에 괄호 신경쓰기\n",
        "print(type(l))\n",
        "print(type(t))"
      ],
      "metadata": {
        "colab": {
          "base_uri": "https://localhost:8080/"
        },
        "id": "ujha9RJE1DBo",
        "outputId": "39ffc944-e952-4371-8ede-ddee14480d94"
      },
      "execution_count": null,
      "outputs": [
        {
          "output_type": "stream",
          "name": "stdout",
          "text": [
            "<class 'list'>\n",
            "<class 'tuple'>\n"
          ]
        }
      ]
    },
    {
      "cell_type": "code",
      "source": [
        "l = [1, 2, 3]\n",
        "t = (5, 6, 7)\n",
        "l[0] = 4        # 0번자리(1)에 4 삽입\n",
        "print(l)\n",
        "\n",
        "# t[0] = 8        # tuple은 변경 불가능\n",
        "print(t)"
      ],
      "metadata": {
        "colab": {
          "base_uri": "https://localhost:8080/"
        },
        "id": "zLYve8Hq1dX4",
        "outputId": "6f68ee33-0f91-4189-ea8d-380a50f6b6b2"
      },
      "execution_count": null,
      "outputs": [
        {
          "output_type": "stream",
          "name": "stdout",
          "text": [
            "[4, 2, 3]\n",
            "(5, 6, 7)\n"
          ]
        }
      ]
    },
    {
      "cell_type": "code",
      "source": [
        "f = (\"apple\", \"banana\", \"cherry\")\n",
        "print(len(f))       # 괄호형 안에 있는 문자갯수"
      ],
      "metadata": {
        "colab": {
          "base_uri": "https://localhost:8080/"
        },
        "id": "yWTrf-0G14cs",
        "outputId": "2439a7e8-535a-410f-87c9-8097448d3080"
      },
      "execution_count": null,
      "outputs": [
        {
          "output_type": "stream",
          "name": "stdout",
          "text": [
            "3\n"
          ]
        }
      ]
    },
    {
      "cell_type": "code",
      "source": [
        "t = (\"kiwi\", )        # 튜플로 인식하기 위해 \",\" 필요함\n",
        "print(t)\n",
        "\n",
        "print(type(t))        # (\"kiwi\")로 넣으면 <class 'str'> 로 출력되기 때문에 (\"kiwi\", ) 콤마를 넣어줘야한다 : <class 'tuple'> 로 출력됨"
      ],
      "metadata": {
        "colab": {
          "base_uri": "https://localhost:8080/"
        },
        "id": "28mBysLz2H6M",
        "outputId": "c732ac3a-40cd-457c-96f2-3e56609ab9d2"
      },
      "execution_count": null,
      "outputs": [
        {
          "output_type": "stream",
          "name": "stdout",
          "text": [
            "('kiwi',)\n",
            "<class 'tuple'>\n"
          ]
        }
      ]
    },
    {
      "cell_type": "code",
      "source": [
        "f = (\"banana\", \"apple\", \"kiwi\", \"cherry\", \"0range\")\n",
        "print(f[:4])        # 앞에서부터 4개 출력\n",
        "\n",
        "print(f[2:])        # 앞에서부터 2개 띄고 출력"
      ],
      "metadata": {
        "colab": {
          "base_uri": "https://localhost:8080/"
        },
        "id": "kClOfso_24Tv",
        "outputId": "094947cd-2a01-4e8e-c4df-58d6dda927c9"
      },
      "execution_count": null,
      "outputs": [
        {
          "output_type": "stream",
          "name": "stdout",
          "text": [
            "('banana', 'apple', 'kiwi', 'cherry')\n",
            "('kiwi', 'cherry', '0range')\n"
          ]
        }
      ]
    },
    {
      "cell_type": "markdown",
      "source": [
        "#### if문 넣어보기"
      ],
      "metadata": {
        "id": "SUeK9_ps3bcZ"
      }
    },
    {
      "cell_type": "code",
      "source": [
        "f = (\"banana\", \"kiwi\", \"cherry\", \"0range\")\n",
        "if \"apple\" in f:        # 만약 apple 이 있다면\n",
        "  print(\"yes\")        # yes 출력\n",
        "\n",
        "else:       # 아니면\n",
        "  print(\"no\")       # no 출력"
      ],
      "metadata": {
        "colab": {
          "base_uri": "https://localhost:8080/"
        },
        "id": "4k7VZijH3ea7",
        "outputId": "39920512-d0bd-40fa-c1fb-39edcf603d4c"
      },
      "execution_count": null,
      "outputs": [
        {
          "output_type": "stream",
          "name": "stdout",
          "text": [
            "no\n"
          ]
        }
      ]
    },
    {
      "cell_type": "markdown",
      "source": [
        "#### Tuple을 List로 바꾸기"
      ],
      "metadata": {
        "id": "QUTBHmuG32gA"
      }
    },
    {
      "cell_type": "code",
      "source": [
        "# 튜플에 추가하는 방법  / 튜플 -> 리스트로 변환 -> append로 추가하기 -> 튜플로 변환\n",
        "t = (\"apple\", \"banana\", \"cherry\")\n",
        "\n",
        "# 오렌지를 추가하기 위해 리스트로 바꾸기\n",
        "y = list(t)\n",
        "print(type(y))        # 리스트로 바뀌었는지 타입으로 체크하기\n",
        "\n",
        "# 리스트에 추가하기 위해 append\n",
        "y.append(\"Orange\")\n",
        "\n",
        "# 다시 튜플로 바꾸기\n",
        "t = tuple(y)\n",
        "\n",
        "# 결과값 확인 출력하기\n",
        "print(t)"
      ],
      "metadata": {
        "colab": {
          "base_uri": "https://localhost:8080/"
        },
        "id": "IA4rUm3L38tu",
        "outputId": "6e60bc9e-747a-4b97-c686-2deded63baa6"
      },
      "execution_count": null,
      "outputs": [
        {
          "output_type": "stream",
          "name": "stdout",
          "text": [
            "<class 'list'>\n",
            "('apple', 'banana', 'cherry', 'Orange')\n"
          ]
        }
      ]
    },
    {
      "cell_type": "code",
      "source": [
        "# List -> Tuple\n",
        "\n",
        "# List 지정\n",
        "company = [\"LG\", \"SK\", \"Apple\"]\n",
        "\n",
        "# 튜플로 전환\n",
        "t = tuple(company)\n",
        "\n",
        "# 리스트와 튜플 차이 결과값으로 확인하기\n",
        "print(company)        # 리스트는 []로 표시, 튜플은 ()로 표시\n",
        "print(t)\n"
      ],
      "metadata": {
        "colab": {
          "base_uri": "https://localhost:8080/"
        },
        "id": "I-QOl2IM5Coh",
        "outputId": "f10c269c-84e0-42ea-a124-8355ec63d9e4"
      },
      "execution_count": null,
      "outputs": [
        {
          "output_type": "stream",
          "name": "stdout",
          "text": [
            "['LG', 'SK', 'Apple']\n",
            "('LG', 'SK', 'Apple')\n"
          ]
        }
      ]
    },
    {
      "cell_type": "code",
      "source": [
        "c = (\"LG\", \"SK\", \"Apple\")\n",
        "d = (\"Samsung\", )       # 하나만 있을경우에도 , 찍고 마무리하기\n",
        "\n",
        "# 튜플끼리 더하기 가능?\n",
        "c += d        # c = c + d\n",
        "print(c)"
      ],
      "metadata": {
        "colab": {
          "base_uri": "https://localhost:8080/"
        },
        "id": "kCvJ-dIz6HVn",
        "outputId": "267c1ce5-04aa-4014-9073-9e55eb1071c0"
      },
      "execution_count": null,
      "outputs": [
        {
          "output_type": "stream",
          "name": "stdout",
          "text": [
            "('LG', 'SK', 'Apple', 'Samsung')\n"
          ]
        }
      ]
    },
    {
      "cell_type": "code",
      "source": [
        "# tuple 지정\n",
        "t = (\"감\", \"밤\", \"대추\")\n",
        "\n",
        "# list로 바꾸기\n",
        "l = list(t)\n",
        "\n",
        "# 삭제할 내용 입력\n",
        "l.remove(\"대추\")\n",
        "\n",
        "# list를 tuple로 변환\n",
        "t = tuple(l)\n",
        "\n",
        "# 출력\n",
        "print(t)"
      ],
      "metadata": {
        "colab": {
          "base_uri": "https://localhost:8080/"
        },
        "id": "3MuJl4hCAAX6",
        "outputId": "612340e8-ee0e-409f-de6b-1b250516c90f"
      },
      "execution_count": null,
      "outputs": [
        {
          "output_type": "stream",
          "name": "stdout",
          "text": [
            "('감', '밤')\n"
          ]
        }
      ]
    },
    {
      "cell_type": "markdown",
      "source": [
        "#### [.] 리스트 / (.) 튜플 / {.} 사전자료\n",
        "\n",
        "사전자료형의 키값은 변경 불가능"
      ],
      "metadata": {
        "id": "7oGhrq7-A1Pi"
      }
    },
    {
      "cell_type": "code",
      "source": [],
      "metadata": {
        "id": "l3J9GWYRACjs"
      },
      "execution_count": null,
      "outputs": []
    },
    {
      "cell_type": "markdown",
      "source": [
        "#### 3.Dict 사전자료형"
      ],
      "metadata": {
        "id": "RAnFlWXGBpqY"
      }
    },
    {
      "cell_type": "code",
      "source": [
        "# 사전자료형 값 지정\n",
        "d = {\n",
        "    'a':1,\n",
        "     'b':2,\n",
        "     'c':3\n",
        "}\n",
        "\n",
        "# 출력\n",
        "print(d)\n",
        "print(type(d))"
      ],
      "metadata": {
        "colab": {
          "base_uri": "https://localhost:8080/"
        },
        "id": "DHmyuWZJBvEL",
        "outputId": "9c1febbd-bf5f-48cd-b9ee-ca0740333b91"
      },
      "execution_count": null,
      "outputs": [
        {
          "output_type": "stream",
          "name": "stdout",
          "text": [
            "{'a': 1, 'b': 2, 'c': 3}\n",
            "<class 'dict'>\n"
          ]
        }
      ]
    },
    {
      "cell_type": "code",
      "source": [
        "# 사전자료형 값 지정\n",
        "d = {\n",
        "    'a':1,\n",
        "     'b':2,\n",
        "     'c':3\n",
        "}\n",
        "\n",
        "# key값으로 출력\n",
        "print(d.keys())\n",
        "\n",
        "# values값으로 출력\n",
        "print(d.values())\n",
        "\n",
        "# items값으로 출력\n",
        "print(d.items())"
      ],
      "metadata": {
        "colab": {
          "base_uri": "https://localhost:8080/"
        },
        "id": "oRE7CmY6CGzr",
        "outputId": "e3b5e75f-9c82-4257-d066-c6fa00e14856"
      },
      "execution_count": null,
      "outputs": [
        {
          "output_type": "stream",
          "name": "stdout",
          "text": [
            "dict_keys(['a', 'b', 'c'])\n",
            "dict_values([1, 2, 3])\n",
            "dict_items([('a', 1), ('b', 2), ('c', 3)])\n"
          ]
        }
      ]
    },
    {
      "cell_type": "code",
      "source": [
        "# 사전자료형 지정\n",
        "car = {\n",
        "    \"maker\" : \"Hyundai\",\n",
        "    \"model\" : \"Pony2\",\n",
        "    \"year\" : 1994\n",
        "}\n",
        "\n",
        "# 출력\n",
        "print(car)\n",
        "\n",
        "# 자료갯수 확인\n",
        "print(len(car))\n",
        "\n",
        "# 내용 바꾸기\n",
        "car[\"year\"] = 2000\n",
        "print(car)\n",
        "\n",
        "# 자료 추가하기\n",
        "car[\"color\"] = \"Blue\"\n",
        "\n",
        "# 확인\n",
        "print(car)\n",
        "\n",
        "# 없는자료 넣어보기\n",
        "# print(car[\"none kode\"])       # 없는 자료를 출력시 오류남"
      ],
      "metadata": {
        "colab": {
          "base_uri": "https://localhost:8080/"
        },
        "id": "o75zJww1Cm6U",
        "outputId": "9af4fa3a-89f2-4db2-de6d-a515243c0d71"
      },
      "execution_count": null,
      "outputs": [
        {
          "output_type": "stream",
          "name": "stdout",
          "text": [
            "{'maker': 'Hyundai', 'model': 'Pony2', 'year': 1994}\n",
            "3\n",
            "{'maker': 'Hyundai', 'model': 'Pony2', 'year': 2000}\n",
            "{'maker': 'Hyundai', 'model': 'Pony2', 'year': 2000, 'color': 'Blue'}\n"
          ]
        }
      ]
    },
    {
      "cell_type": "code",
      "source": [
        "# 사전자료형 지정\n",
        "car = {\n",
        "    \"maker\" : \"BMW\",\n",
        "    \"model\" : \"740Li\",\n",
        "    \"year\" : 2023\n",
        "}\n",
        "\n",
        "# 자료 지우기 (해당 키값 삭제)\n",
        "car.pop(\"model\")\n",
        "\n",
        "# 확인\n",
        "print(car)"
      ],
      "metadata": {
        "colab": {
          "base_uri": "https://localhost:8080/"
        },
        "id": "FFaYFXIxESRs",
        "outputId": "9f53f973-fec0-4d31-8787-25822c16057b"
      },
      "execution_count": null,
      "outputs": [
        {
          "output_type": "stream",
          "name": "stdout",
          "text": [
            "{'maker': 'BMW', 'year': 2023}\n"
          ]
        }
      ]
    },
    {
      "cell_type": "code",
      "source": [
        "# 사전자료형 지정\n",
        "car = {\n",
        "    \"maker\" : \"BMW\",\n",
        "    \"model\" : \"GT\",\n",
        "    \"year\" : 2023\n",
        "}\n",
        "\n",
        "# 다른방식으로 자료 지우기    # 맨뒤 자료 삭제\n",
        "car.popitem()\n",
        "\n",
        "# 확인\n",
        "print(car)"
      ],
      "metadata": {
        "colab": {
          "base_uri": "https://localhost:8080/"
        },
        "id": "0oDeoBwjEyN5",
        "outputId": "4d6ac443-a965-4811-ce32-21c8f9527005"
      },
      "execution_count": null,
      "outputs": [
        {
          "output_type": "stream",
          "name": "stdout",
          "text": [
            "{'maker': 'BMW', 'model': 'GT'}\n"
          ]
        }
      ]
    },
    {
      "cell_type": "code",
      "source": [
        "# 사전자료형 지정\n",
        "car = {\n",
        "    \"maker\" : \"BMW\",\n",
        "    \"model\" : \"740Li\",\n",
        "    \"year\" : 2023\n",
        "}\n",
        "\n",
        "# 모든자료 삭제\n",
        "car.clear()\n",
        "\n",
        "# 확인\n",
        "print(car)\n",
        "\n",
        "# 자료 채우기\n",
        "car[\"maker\"] = \"KIA\"\n",
        "\n",
        "# 확인\n",
        "print(car)"
      ],
      "metadata": {
        "colab": {
          "base_uri": "https://localhost:8080/"
        },
        "id": "lD2i2ie5FBxZ",
        "outputId": "a1a2b438-9e32-42a7-e7fd-bc780d30753e"
      },
      "execution_count": null,
      "outputs": [
        {
          "output_type": "stream",
          "name": "stdout",
          "text": [
            "{}\n",
            "{'maker': 'KIA'}\n"
          ]
        }
      ]
    },
    {
      "cell_type": "code",
      "source": [
        "# 사전자료형 지정\n",
        "car = {\n",
        "    \"maker\" : \"BMW\",\n",
        "    \"model\" : \"GT\",\n",
        "    \"year\" : 2023\n",
        "}\n",
        "\n",
        "# del로 지우면 모든게 다 지워지기 때문에 오류가 난다.\n",
        "#del(car)\n",
        "#print(car)"
      ],
      "metadata": {
        "id": "IYzVJjB3FiGF"
      },
      "execution_count": null,
      "outputs": []
    },
    {
      "cell_type": "markdown",
      "source": [
        "#### Loop"
      ],
      "metadata": {
        "id": "WfFt0rBUF4_Q"
      }
    },
    {
      "cell_type": "code",
      "source": [
        "# 사전자료형 지정\n",
        "car = {\n",
        "    \"maker\" : \"BMW\",\n",
        "    \"model\" : \"i4\",\n",
        "    \"year\" : 2023\n",
        "}\n",
        "\n",
        "# for문으로 자료 확인\n",
        "for x in car :\n",
        "  print(car[x])"
      ],
      "metadata": {
        "colab": {
          "base_uri": "https://localhost:8080/"
        },
        "id": "nZP1TuRuF780",
        "outputId": "09dc0f31-98d7-4728-b0f3-c7e74b24a735"
      },
      "execution_count": null,
      "outputs": [
        {
          "output_type": "stream",
          "name": "stdout",
          "text": [
            "BMW\n",
            "i4\n",
            "2023\n"
          ]
        }
      ]
    },
    {
      "cell_type": "code",
      "source": [
        "# 사전자료형 지정\n",
        "car = {\n",
        "    \"maker\" : \"BMW\",\n",
        "    \"model\" : \"GT\",\n",
        "    \"year\" : 2023\n",
        "}\n",
        "\n",
        "# for문으로 자료 키값만 확인\n",
        "for x in car.keys():\n",
        "  print(x)"
      ],
      "metadata": {
        "colab": {
          "base_uri": "https://localhost:8080/"
        },
        "id": "fCan_0vUGRLG",
        "outputId": "10acb412-340a-4445-bc71-c605057b9eaa"
      },
      "execution_count": null,
      "outputs": [
        {
          "output_type": "stream",
          "name": "stdout",
          "text": [
            "maker\n",
            "model\n",
            "year\n"
          ]
        }
      ]
    },
    {
      "cell_type": "code",
      "source": [
        "# 사전자료형 지정\n",
        "car = {\n",
        "    \"maker\" : \"BMW\",\n",
        "    \"model\" : \"GT\",\n",
        "    \"year\" : 2023\n",
        "}\n",
        "\n",
        "# for문으로 자료 밸류값만 확인\n",
        "for x in car.values():\n",
        "  print(x)"
      ],
      "metadata": {
        "colab": {
          "base_uri": "https://localhost:8080/"
        },
        "id": "4elo7UlAGi3r",
        "outputId": "7896f17f-a92e-4522-ee34-9be50bb38580"
      },
      "execution_count": null,
      "outputs": [
        {
          "output_type": "stream",
          "name": "stdout",
          "text": [
            "BMW\n",
            "GT\n",
            "2023\n"
          ]
        }
      ]
    },
    {
      "cell_type": "code",
      "source": [
        "# 사전자료형 지정\n",
        "car = {\n",
        "    \"maker\" : \"BMW\",\n",
        "    \"model\" : \"GT\",\n",
        "    \"year\" : 2023\n",
        "}\n",
        "\n",
        "# for문으로 자료 아이템값만 확인\n",
        "for x,y in car.items():\n",
        "  print(x, y)\n"
      ],
      "metadata": {
        "colab": {
          "base_uri": "https://localhost:8080/"
        },
        "id": "YzbLErDZGnLx",
        "outputId": "d292dedd-d8f3-4cf3-eac8-9c3bdafa6859"
      },
      "execution_count": null,
      "outputs": [
        {
          "output_type": "stream",
          "name": "stdout",
          "text": [
            "maker BMW\n",
            "model GT\n",
            "year 2023\n"
          ]
        }
      ]
    },
    {
      "cell_type": "code",
      "source": [
        "# 사전자료형 지정\n",
        "car = {\n",
        "    \"maker\" : \"BMW\",\n",
        "    \"model\" : \"i4\",\n",
        "    \"year\" : 2023\n",
        "}\n",
        "\n",
        "# 지정한 사전자료 카피\n",
        "myCar = car.copy()\n",
        "\n",
        "# 확인\n",
        "print(myCar)"
      ],
      "metadata": {
        "colab": {
          "base_uri": "https://localhost:8080/"
        },
        "id": "ce1mBlgVGrPC",
        "outputId": "680ee275-eba7-4ffa-de4d-775db3e2c584"
      },
      "execution_count": null,
      "outputs": [
        {
          "output_type": "stream",
          "name": "stdout",
          "text": [
            "{'maker': 'BMW', 'model': 'i4', 'year': 2023}\n"
          ]
        }
      ]
    },
    {
      "cell_type": "code",
      "source": [
        "# 사전자료형 지정\n",
        "food = {\n",
        "    \"brand\" : \"Lotte\",\n",
        "    \"model\" : \"Ice Cream\",\n",
        "    \"price\" : 2000\n",
        "}\n",
        "\n",
        "# 카피하는 다른방법\n",
        "myFood = dict(food)\n",
        "\n",
        "# 확인\n",
        "print(myFood)"
      ],
      "metadata": {
        "colab": {
          "base_uri": "https://localhost:8080/"
        },
        "id": "e5Bgng8kHwlG",
        "outputId": "8fd79a31-7155-4487-afbe-747620bad008"
      },
      "execution_count": null,
      "outputs": [
        {
          "output_type": "stream",
          "name": "stdout",
          "text": [
            "{'brand': 'Lotte', 'model': 'Ice Cream', 'price': 2000}\n"
          ]
        }
      ]
    },
    {
      "cell_type": "code",
      "source": [
        "# 사전자료형 지정\n",
        "name1 = {\"name\":\"우승민\", \"year\" : 2000}\n",
        "name2 = {\"name\":\"박성환\", \"year\" : 2001}\n",
        "name3 = {\"name\":\"우승준\", \"year\" : 2002}\n",
        "\n",
        "# family로 묶기\n",
        "family = {\n",
        "    \"name1\" : name1,\n",
        "    \"name2\" : name2,\n",
        "    \"name3\" : name3\n",
        "}\n",
        "\n",
        "# 확인\n",
        "print(family)"
      ],
      "metadata": {
        "colab": {
          "base_uri": "https://localhost:8080/"
        },
        "id": "HjyYKiCuIeMP",
        "outputId": "7d6587fa-ede4-4cdd-eff3-4fc09a3e2f77"
      },
      "execution_count": null,
      "outputs": [
        {
          "output_type": "stream",
          "name": "stdout",
          "text": [
            "{'name1': {'name': '우승민', 'year': 2000}, 'name2': {'name': '박성환', 'year': 2001}, 'name3': {'name': '우승준', 'year': 2002}}\n"
          ]
        }
      ]
    },
    {
      "cell_type": "code",
      "source": [
        "# 과제 / 노가다로 하지말고 for문 사용하여 간단하게 작성하기\n",
        "name = input(\"이름: \")\n",
        "phone_Num = input(\"전화번호: \")\n",
        "\n",
        "name2 = input(\"이름: \")\n",
        "phone_Num2 = input(\"전화번호: \")\n",
        "\n",
        "name3 = input(\"이름: \")\n",
        "phone_Num3 = input(\"전화번호: \")\n",
        "\n",
        "a = {\"이름\" : name, \"번호\" : phone_Num}\n",
        "b = {\"이름\" : name2, \"번호\" : phone_Num2}\n",
        "c = {\"이름\" : name3, \"번호\" : phone_Num3}\n",
        "\n",
        "print(a, b, c)"
      ],
      "metadata": {
        "colab": {
          "base_uri": "https://localhost:8080/"
        },
        "id": "ZzGW_wfRMFQp",
        "outputId": "d498a298-eb60-429f-cca4-90c65d67cafc"
      },
      "execution_count": 26,
      "outputs": [
        {
          "output_type": "stream",
          "name": "stdout",
          "text": [
            "이름: 재준이\n",
            "전화번호: 01012121212\n",
            "이름: 도영이\n",
            "전화번호: 01034343434\n",
            "이름: 연진이\n",
            "전화번호: 01056565656\n",
            "{'이름': '재준이', '번호': '01012121212'} {'이름': '도영이', '번호': '01034343434'} {'이름': '연진이', '번호': '01056565656'}\n"
          ]
        }
      ]
    },
    {
      "cell_type": "code",
      "source": [
        "# 과제 / for문 사용 간단하게 작성\n",
        "friend = {}\n",
        "\n",
        "for i in range(3):\n",
        "    name = input(f\"이름 {i+1} 입력: \")\n",
        "    phonenumber = input(f\"{name}의 전화 번호 입력: \")\n",
        "    friend[name] = phonenumber\n",
        "\n",
        "print(friend)"
      ],
      "metadata": {
        "colab": {
          "base_uri": "https://localhost:8080/"
        },
        "id": "xGtUfo5W-XuQ",
        "outputId": "9d2ad251-6296-4fbc-af38-7cf1b2d2341b"
      },
      "execution_count": 27,
      "outputs": [
        {
          "output_type": "stream",
          "name": "stdout",
          "text": [
            "이름 1 입력: 재준이\n",
            "재준이의 전화 번호 입력: 01012121212\n",
            "이름 2 입력: 도영이\n",
            "도영이의 전화 번호 입력: 01034343434\n",
            "이름 3 입력: 연진이\n",
            "연진이의 전화 번호 입력: 01056565656\n",
            "{'재준이': '01012121212', '도영이': '01034343434', '연진이': '01056565656'}\n"
          ]
        }
      ]
    }
  ]
}