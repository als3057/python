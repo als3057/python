{
  "nbformat": 4,
  "nbformat_minor": 0,
  "metadata": {
    "colab": {
      "provenance": [],
      "authorship_tag": "ABX9TyMNA5e3ShQW990afJIfPUx9",
      "include_colab_link": true
    },
    "kernelspec": {
      "name": "python3",
      "display_name": "Python 3"
    },
    "language_info": {
      "name": "python"
    }
  },
  "cells": [
    {
      "cell_type": "markdown",
      "metadata": {
        "id": "view-in-github",
        "colab_type": "text"
      },
      "source": [
        "<a href=\"https://colab.research.google.com/github/als3057/python/blob/main/Untitled1.ipynb\" target=\"_parent\"><img src=\"https://colab.research.google.com/assets/colab-badge.svg\" alt=\"Open In Colab\"/></a>"
      ]
    },
    {
      "cell_type": "markdown",
      "source": [
        "# ch1. 파이썬 문법  \n",
        "## 자료형  \n",
        "**숫자형**  \n",
        "* 정수 : 123, 456, 0, -30  \n",
        "* 실수 : 12, 345, -987, 65, 0.7e6  \n",
        "* 8진수 : 0o765, 0o123  \n",
        "* 16진수 : 0x00, 0x0A, 0xFF  \n",
        "\n",
        "**변수**\n",
        "* 문자, 또는 밑줄로 시작(_kim, alpha)  \n",
        "* 대소문자 구분(sum, Sum, SUM)  \n",
        "* 영문자, 숫자, 밑줄(A-z, 0-9, _)  \n",
        " ex) sun_9, Alpha, s9n)  \n",
        "* 파이썬 키워드 (print...)  \n",
        "\n",
        "\n",
        "**표기법**  \n",
        "+ 카멜(낙타) : myName  \n",
        "+ 스네이크(뱀) : my_name  \n",
        "+ 파스칼 : MyName"
      ],
      "metadata": {
        "id": "FMAvmUpviCqb"
      }
    },
    {
      "cell_type": "code",
      "source": [
        "a = 10\n",
        "b = 20\n",
        "f = \"10\"  \n",
        "c = a + b  \n",
        "print(a, b, c, f)"
      ],
      "metadata": {
        "colab": {
          "base_uri": "https://localhost:8080/"
        },
        "id": "Z9naCZyblX7U",
        "outputId": "4e300498-55a2-4bec-cb47-18b176762665"
      },
      "execution_count": null,
      "outputs": [
        {
          "output_type": "stream",
          "name": "stdout",
          "text": [
            "10 20 30 10\n"
          ]
        }
      ]
    },
    {
      "cell_type": "code",
      "source": [
        "a= 10\n",
        "b = 20\n",
        "c = \"10\" # 주석처리 = #\n",
        "d = \"20\"\n",
        "print(a+b)\n",
        "print(a,b)\n",
        "print(type(a))\n",
        "print(type(c))\n",
        "print(c+d)\n",
        "print(c,d)"
      ],
      "metadata": {
        "colab": {
          "base_uri": "https://localhost:8080/"
        },
        "id": "0dwf8TBXl-CX",
        "outputId": "744b6c6c-e694-43dd-feef-7cf32dc9759f"
      },
      "execution_count": null,
      "outputs": [
        {
          "output_type": "stream",
          "name": "stdout",
          "text": [
            "30\n",
            "10 20\n",
            "<class 'int'>\n",
            "<class 'str'>\n",
            "1020\n",
            "10 20\n"
          ]
        }
      ]
    },
    {
      "cell_type": "code",
      "execution_count": null,
      "metadata": {
        "colab": {
          "base_uri": "https://localhost:8080/"
        },
        "id": "zCwy5K0biAzQ",
        "outputId": "0d340be9-4cc7-4f21-84ca-9f6b58e749e7"
      },
      "outputs": [
        {
          "output_type": "stream",
          "name": "stdout",
          "text": [
            "3.3333333333333335 20 1\n"
          ]
        }
      ],
      "source": [
        "# 곱셈 나눗셈\n",
        "a = 10  \n",
        "b = 3\n",
        "c = a / b #몫\n",
        "e = a % b # 나머지\n",
        "print(c,d,e)\n"
      ]
    },
    {
      "cell_type": "code",
      "source": [
        "# 곱셈\n",
        "a = 10\n",
        "b = 3\n",
        "c = a * b # 곱셈\n",
        "d = a**b # 제곱\n",
        "print(c, d)"
      ],
      "metadata": {
        "colab": {
          "base_uri": "https://localhost:8080/"
        },
        "id": "6jnk4WgmrWlp",
        "outputId": "ce91af82-cad1-41d0-ac9e-011cce5b67ae"
      },
      "execution_count": null,
      "outputs": [
        {
          "output_type": "stream",
          "name": "stdout",
          "text": [
            "30 1000\n"
          ]
        }
      ]
    },
    {
      "cell_type": "markdown",
      "source": [
        "#### 문자열  \n",
        "1. 큰 따옴표 : \"Lang Kim\"  \n",
        "2. 작은 따옴표 : 'Lang Kim'  \n",
        "3. 큰 따옴표 3개 : \"\"\"대한민국\"\"\"  \n",
        "4. 작은 따옴표 3개 : '''대한민국'''  \n",
        "5. \"동해물과 백두산이 마르고 닳도록\n",
        "kim's\\\"    \n",
        "'''  \n",
        "동해물과 백두산이  \n",
        "마르고 닳도록  \n",
        "우리나라 좋은 나라  \n",
        "'''  \n"
      ],
      "metadata": {
        "id": "MZMth_MRrmdo"
      }
    },
    {
      "cell_type": "code",
      "source": [
        "# 변수  \n",
        "myName = \"Kim Lang Ki\"\n",
        "my_name = \"김랑기\"\n",
        "_my_name = \"korea\"\n",
        "MYNAME = \"코리아\"\n",
        "my2name = \"kikiki\"  \n",
        "# 2myname = \"맨앞에 숫자가 오면 안됨\"\n",
        "# my-name = \"-안되고 _만가능\"\n",
        "# my name = \"스페이스바 안됨\"\n",
        "myName1 = 1234\n",
        "myName2 = \"1234\"\n",
        "print(type(myName1))\n",
        "print(type(myName2))"
      ],
      "metadata": {
        "colab": {
          "base_uri": "https://localhost:8080/"
        },
        "id": "njJODm2DsMEr",
        "outputId": "da9b8928-daea-401f-dd8a-a1d5a0b1283b"
      },
      "execution_count": null,
      "outputs": [
        {
          "output_type": "stream",
          "name": "stdout",
          "text": [
            "<class 'int'>\n",
            "<class 'str'>\n"
          ]
        }
      ]
    },
    {
      "cell_type": "markdown",
      "source": [
        "#### 변수할당"
      ],
      "metadata": {
        "id": "YM9nusDeuuAe"
      }
    },
    {
      "cell_type": "code",
      "source": [
        "a=b=c= \"브라보콘\"\n",
        "print(a)\n",
        "print(b)\n",
        "print(c)\n"
      ],
      "metadata": {
        "colab": {
          "base_uri": "https://localhost:8080/"
        },
        "id": "Kh6BwSvwuzrX",
        "outputId": "3e277a29-0dfc-442c-db94-f306bc6f67eb"
      },
      "execution_count": null,
      "outputs": [
        {
          "output_type": "stream",
          "name": "stdout",
          "text": [
            "브라보콘\n",
            "브라보콘\n",
            "브라보콘\n"
          ]
        }
      ]
    },
    {
      "cell_type": "code",
      "source": [
        "x,y,z = \"딸기\", \"포도\", \"바나나\"          # x, y, x = \"딸기\", \"포도\", \"바나나\" / 결과값 바나나 포도 바나나 / x가 나중에 입력된 값이 바나나여서 딸기값 대신 바나나값이 나옴\n",
        "print(x)\n",
        "print(y)\n",
        "print(z)"
      ],
      "metadata": {
        "colab": {
          "base_uri": "https://localhost:8080/"
        },
        "id": "DtN5ze40vD4-",
        "outputId": "643800f6-f494-44e5-b013-f34728792ff5"
      },
      "execution_count": null,
      "outputs": [
        {
          "output_type": "stream",
          "name": "stdout",
          "text": [
            "딸기\n",
            "포도\n",
            "바나나\n"
          ]
        }
      ]
    },
    {
      "cell_type": "code",
      "source": [
        "fruits = [\"누가바\", \"쌍쌍바\", \"보석바\"]\n",
        "x, y, z = fruits\n",
        "print(x)\n",
        "print(y)\n",
        "print(z)"
      ],
      "metadata": {
        "colab": {
          "base_uri": "https://localhost:8080/"
        },
        "id": "jq_loFAQv1fA",
        "outputId": "19551a39-e762-48a7-9fa4-58f9d68e3550"
      },
      "execution_count": null,
      "outputs": [
        {
          "output_type": "stream",
          "name": "stdout",
          "text": [
            "누가바\n",
            "쌍쌍바\n",
            "보석바\n"
          ]
        }
      ]
    },
    {
      "cell_type": "code",
      "source": [
        "x = \" Life\"                    # ,로 프린트하면 공백생김, +로 프린트하면 붙음 / 값지정할때 공백을 미리넣어 공백 주기 가능 \n",
        "y = \" is\"\n",
        "z = \" beautiful!\"\n",
        "print(x, y, z)\n",
        "print(x+y+z)"
      ],
      "metadata": {
        "colab": {
          "base_uri": "https://localhost:8080/"
        },
        "id": "voF_GIOrwgGk",
        "outputId": "9e2ac2d4-e23e-40f9-8325-a95edaff2829"
      },
      "execution_count": null,
      "outputs": [
        {
          "output_type": "stream",
          "name": "stdout",
          "text": [
            " Life  is  beautiful!\n",
            " Life is beautiful!\n"
          ]
        }
      ]
    },
    {
      "cell_type": "code",
      "source": [
        "a = '1'\n",
        "b = '2'\n",
        "c = '3'\n",
        "print(a+b+c)\n",
        "print(a, b, c)"
      ],
      "metadata": {
        "colab": {
          "base_uri": "https://localhost:8080/"
        },
        "id": "wMy5svbhxES5",
        "outputId": "097a3fed-be34-4140-ffa9-6367f925557a"
      },
      "execution_count": null,
      "outputs": [
        {
          "output_type": "stream",
          "name": "stdout",
          "text": [
            "123\n",
            "1 2 3\n"
          ]
        }
      ]
    },
    {
      "cell_type": "markdown",
      "source": [
        "데이터 바꾸기  \n"
      ],
      "metadata": {
        "id": "LPno6Hs676gE"
      }
    },
    {
      "cell_type": "code",
      "source": [
        "a = 1;b = 2\n",
        "a,b = b,a\n",
        "print(a,b)"
      ],
      "metadata": {
        "colab": {
          "base_uri": "https://localhost:8080/"
        },
        "id": "AYAwe_Fb78tb",
        "outputId": "23586c7a-fbd3-48ab-8c3b-b4cf37e35ea5"
      },
      "execution_count": null,
      "outputs": [
        {
          "output_type": "stream",
          "name": "stdout",
          "text": [
            "2 1\n"
          ]
        }
      ]
    },
    {
      "cell_type": "code",
      "source": [
        "b = 2;c = 3\n",
        "# c = (b=b+c) # error"
      ],
      "metadata": {
        "id": "npPUrj4y8gaq"
      },
      "execution_count": null,
      "outputs": []
    },
    {
      "cell_type": "code",
      "source": [
        "# len()\n",
        "\n",
        "a = \"123456\"\n",
        "b = [2,3,4,5]\n",
        "print(len(a))\n",
        "print(len(b))"
      ],
      "metadata": {
        "colab": {
          "base_uri": "https://localhost:8080/"
        },
        "id": "KZfy9RwG8sfK",
        "outputId": "2f793e77-3d6a-41c7-c15a-eb823139a7e7"
      },
      "execution_count": null,
      "outputs": [
        {
          "output_type": "stream",
          "name": "stdout",
          "text": [
            "6\n",
            "4\n"
          ]
        }
      ]
    },
    {
      "cell_type": "markdown",
      "source": [
        "#### 계산기 \n"
      ],
      "metadata": {
        "id": "QpusPoIl9WDv"
      }
    },
    {
      "cell_type": "code",
      "source": [
        "a = 100\n",
        "b = 200\n",
        "result = a+b\n",
        "print(a, '+', b, '=', result)\n",
        "result  = a-b\n",
        "print(a, '-', b, '=', result)\n",
        "result  = a/b\n",
        "print(a, '/', b, '=', result)\n",
        "result  = a*b\n",
        "print(a, '*', b, '=', result)"
      ],
      "metadata": {
        "colab": {
          "base_uri": "https://localhost:8080/"
        },
        "id": "NS_2KYQS9bxR",
        "outputId": "3b4d3a2b-16b8-4800-e448-39a85db49e48"
      },
      "execution_count": null,
      "outputs": [
        {
          "output_type": "stream",
          "name": "stdout",
          "text": [
            "100 + 200 = 300\n",
            "100 - 200 = -100\n",
            "100 / 200 = 0.5\n",
            "100 * 200 = 20000\n"
          ]
        }
      ]
    },
    {
      "cell_type": "markdown",
      "source": [
        "//"
      ],
      "metadata": {
        "id": "lsw-rYewAwvb"
      }
    },
    {
      "cell_type": "code",
      "source": [
        "a = \"1234\"    \n",
        "b = 5678\n",
        "c = int(a) + b    # 문자열을 숫자로 변환시켜서 더하기\n",
        "print(c)"
      ],
      "metadata": {
        "colab": {
          "base_uri": "https://localhost:8080/"
        },
        "id": "5pPhv5RnAxWD",
        "outputId": "1e791bef-8668-447d-c254-ff3aa275e788"
      },
      "execution_count": null,
      "outputs": [
        {
          "output_type": "stream",
          "name": "stdout",
          "text": [
            "6912\n"
          ]
        }
      ]
    },
    {
      "cell_type": "code",
      "source": [
        "# 계산기 2\n",
        "num1 = int(input(\"숫자입력1: \"))\n",
        "num2 = int(input(\"숫자입력2: \"))\n",
        "\n",
        "print(type(num1))\n",
        "result = num1 + num2\n",
        "print(result)"
      ],
      "metadata": {
        "colab": {
          "base_uri": "https://localhost:8080/"
        },
        "id": "qGGmKvmsBI8y",
        "outputId": "60c2f705-89e8-4589-9bf0-7e1544345000"
      },
      "execution_count": null,
      "outputs": [
        {
          "output_type": "stream",
          "name": "stdout",
          "text": [
            "숫자입력1: 3\n",
            "숫자입력2: 4\n",
            "<class 'int'>\n",
            "7\n"
          ]
        }
      ]
    },
    {
      "cell_type": "code",
      "source": [
        "# 사칙연산 계산기\n",
        "num1 = int(input(\"숫자입력1: \"))\n",
        "num2 = int(input(\"숫자입력2: \"))\n",
        "print(type(num1))\n",
        "\n",
        "result = num1 + num2\n",
        "print(result)\n",
        "result = num1 - num2\n",
        "print(result)\n",
        "result = num1 * num2\n",
        "print(result)\n",
        "result = num1 / num2\n",
        "print(result)\n"
      ],
      "metadata": {
        "colab": {
          "base_uri": "https://localhost:8080/"
        },
        "id": "cY9HVy80B_ai",
        "outputId": "96a4d17e-f3db-4ebe-dbe0-a1d61a3e8586"
      },
      "execution_count": null,
      "outputs": [
        {
          "output_type": "stream",
          "name": "stdout",
          "text": [
            "숫자입력1: 6\n",
            "숫자입력2: 3\n",
            "<class 'int'>\n",
            "9\n",
            "3\n",
            "18\n",
            "2.0\n"
          ]
        }
      ]
    },
    {
      "cell_type": "code",
      "source": [
        "# 이름, 전화번호, 택배(g)x100, 결과값 = g x 100원 = n원입니다.\n",
        "\n",
        "name = input(\"이름: \")\n",
        "phone_Num = input(\"전화번호: \")\n",
        "weight = int(input(\"무게: \"))\n",
        "a = '결과값 = weight x 100원 입니다.'\n",
        "\n",
        "print(type(weight))\n",
        "\n",
        "result = weight * 100\n",
        "\n",
        "print(name)\n",
        "print(phone_Num)\n",
        "print(weight, 'g')\n",
        "print(result, '결과값 = weight x 100원입니다')"
      ],
      "metadata": {
        "colab": {
          "base_uri": "https://localhost:8080/"
        },
        "id": "sQhUqhoAD0Bg",
        "outputId": "fae522f9-2acd-468e-c12b-8fb7871a95bd"
      },
      "execution_count": null,
      "outputs": [
        {
          "output_type": "stream",
          "name": "stdout",
          "text": [
            "이름: 우승민\n",
            "전화번호: 01076310741\n",
            "무게: 10\n",
            "<class 'int'>\n",
            "우승민\n",
            "01076310741\n",
            "10 g\n",
            "1000 결과값 = weight x 100원입니다\n"
          ]
        }
      ]
    },
    {
      "cell_type": "markdown",
      "source": [
        "2023/03/21 화"
      ],
      "metadata": {
        "id": "Zf9NXbzAiKeO"
      }
    },
    {
      "cell_type": "markdown",
      "source": [
        "# ch2. 서식 출력 print()"
      ],
      "metadata": {
        "id": "dJaQlm26ibpN"
      }
    },
    {
      "cell_type": "code",
      "source": [
        "print(\"%d\" % 123)\n",
        "print(\"%5d\" % 123)\n",
        "print(\"%05d\" % 123)\n",
        "\n",
        "print(\"%f\" % 123.45)\n",
        "print(\"%7.1f\" % 123.45)\n",
        "print(\"%7.3f\" % 123.45)\n",
        "\n",
        "print(\"%c\" % \"1\")\n",
        "print(\"%s\" % \"가나다라\")\n",
        "print(\"%6s\" % \"가나다라\")\n",
        "print(\"%6s\" % \"abcd\")\n"
      ],
      "metadata": {
        "colab": {
          "base_uri": "https://localhost:8080/"
        },
        "id": "vDBDXofqihJL",
        "outputId": "261c43c4-d5c2-4c2b-c617-99ee957e3c60"
      },
      "execution_count": null,
      "outputs": [
        {
          "output_type": "stream",
          "name": "stdout",
          "text": [
            "123\n",
            "  123\n",
            "00123\n",
            "123.450000\n",
            "  123.5\n",
            "123.450\n",
            "1\n",
            "가나다라\n",
            "  가나다라\n",
            "  abcd\n"
          ]
        }
      ]
    },
    {
      "cell_type": "markdown",
      "source": [
        "#### 순서 지정 기능 : format"
      ],
      "metadata": {
        "id": "TNHe4qfokM0L"
      }
    },
    {
      "cell_type": "code",
      "source": [
        "print(\"{0:d} {1:5d} {2:05d}\".format(123,456,789))"
      ],
      "metadata": {
        "colab": {
          "base_uri": "https://localhost:8080/"
        },
        "id": "im1-Fzc8kUN2",
        "outputId": "f7fbbf58-9f0d-429f-ce47-207c5eb7fb57"
      },
      "execution_count": null,
      "outputs": [
        {
          "output_type": "stream",
          "name": "stdout",
          "text": [
            "123   456 00789\n"
          ]
        }
      ]
    },
    {
      "cell_type": "code",
      "source": [
        "print(\"{2:d} {1:5d} {0:05d}\".format(123,456,789))"
      ],
      "metadata": {
        "colab": {
          "base_uri": "https://localhost:8080/"
        },
        "id": "RuUbBlsikunp",
        "outputId": "bc0ed426-cb7c-4d21-c02f-542a091a45d4"
      },
      "execution_count": null,
      "outputs": [
        {
          "output_type": "stream",
          "name": "stdout",
          "text": [
            "789   456 00123\n"
          ]
        }
      ]
    },
    {
      "cell_type": "markdown",
      "source": [
        "#### 서식 출력 "
      ],
      "metadata": {
        "id": "YnTeEv-kk8Ba"
      }
    },
    {
      "cell_type": "code",
      "source": [
        "print(\"\\n 줄 바꿈 명령 \\n연습 입니다.\")"
      ],
      "metadata": {
        "colab": {
          "base_uri": "https://localhost:8080/"
        },
        "id": "SnoDUYl8k-2f",
        "outputId": "06bf08a4-345e-4216-a698-1a8fb3d22688"
      },
      "execution_count": null,
      "outputs": [
        {
          "output_type": "stream",
          "name": "stdout",
          "text": [
            "\n",
            " 줄 바꿈 명령 \n",
            "연습 입니다.\n"
          ]
        }
      ]
    },
    {
      "cell_type": "code",
      "source": [
        "print(\"\\t탭키 명령 \\t연습입니다.\")"
      ],
      "metadata": {
        "colab": {
          "base_uri": "https://localhost:8080/"
        },
        "id": "Cl5xCyNClWq0",
        "outputId": "e6efd9cc-b4df-4e6a-c988-bdc3455a10aa"
      },
      "execution_count": null,
      "outputs": [
        {
          "output_type": "stream",
          "name": "stdout",
          "text": [
            "\t탭키 명령 \t연습입니다.\n"
          ]
        }
      ]
    },
    {
      "cell_type": "code",
      "source": [
        "print(\"따옴표 글자가 \\\"강조\\\"되는 효과1\")\n",
        "print(\"따옴표 글자가 \\'강조\\'되는 효과1\")\n",
        "print(\"역슬래시 3개를 출력하려면 \\\\\\\\\\\\ 6개\")\n",
        "print(r\"\\n \\t \\ \\\\ \\ @을 그대로 출력\")"
      ],
      "metadata": {
        "colab": {
          "base_uri": "https://localhost:8080/"
        },
        "id": "ZhHfbmwTleYQ",
        "outputId": "bc0df0ba-9a6e-4a42-8523-36d3680e3956"
      },
      "execution_count": 43,
      "outputs": [
        {
          "output_type": "stream",
          "name": "stdout",
          "text": [
            "따옴표 글자가 \"강조\"되는 효과1\n",
            "따옴표 글자가 '강조'되는 효과1\n",
            "역슬래시 3개를 출력하려면 \\\\\\ 6개\n",
            "\\n \\t \\ \\\\ \\ @을 그대로 출력\n"
          ]
        }
      ]
    },
    {
      "cell_type": "markdown",
      "source": [
        "#### 관계 연산자 "
      ],
      "metadata": {
        "id": "Y8YQrfOiugJ8"
      }
    },
    {
      "cell_type": "code",
      "source": [
        "a, b=10, 20\n",
        "print(a==b, a!=b, a>=b, a<=b, a>b, a<b)\n"
      ],
      "metadata": {
        "colab": {
          "base_uri": "https://localhost:8080/"
        },
        "id": "Kz4lAzUoummS",
        "outputId": "7d896009-9c48-4d39-cc9e-94992c5410b0"
      },
      "execution_count": 44,
      "outputs": [
        {
          "output_type": "stream",
          "name": "stdout",
          "text": [
            "False True False True False True\n"
          ]
        }
      ]
    },
    {
      "cell_type": "markdown",
      "source": [
        "#### 논리 연산자 and, or, not"
      ],
      "metadata": {
        "id": "bHnaAR_MvNai"
      }
    },
    {
      "cell_type": "code",
      "source": [
        "a = 150\n",
        "print((a>100) and (a<200)) # 100<a<200\n",
        "print((a<100) or (a<200)) # a<100, a>200 \n",
        "print(not(a==100))        # a<=99, a>=101"
      ],
      "metadata": {
        "colab": {
          "base_uri": "https://localhost:8080/"
        },
        "id": "jSpX_vEvvREd",
        "outputId": "4dc02689-cdbe-43cf-e08c-87aae34284e7"
      },
      "execution_count": 49,
      "outputs": [
        {
          "output_type": "stream",
          "name": "stdout",
          "text": [
            "True\n",
            "True\n",
            "True\n"
          ]
        }
      ]
    },
    {
      "cell_type": "code",
      "source": [
        "if(1):\n",
        "  print(\"참이면 실행되어 보임\")\n",
        "if(0):\n",
        "  print(\"거짓이면 안보임\")"
      ],
      "metadata": {
        "colab": {
          "base_uri": "https://localhost:8080/"
        },
        "id": "ey6oCqpewcKC",
        "outputId": "2f986d3d-f3ea-4cea-e6df-2947c410935c"
      },
      "execution_count": 52,
      "outputs": [
        {
          "output_type": "stream",
          "name": "stdout",
          "text": [
            "참이면 실행되어 보임\n"
          ]
        }
      ]
    },
    {
      "cell_type": "markdown",
      "source": [
        "#### 퀴즈2 // 몫, % 나머지 int(input(\"입력:\") 지폐 금액입력 후 동전으로 교환시 (500원, 100원, 50원, 10원) \n",
        "money, c500, c100, c50, c10\n",
        "받은돈 : ?원\n",
        "500원 : ?개\n",
        "100원 : ?개\n",
        "50원 : ?개\n",
        "10원 : ?개\n",
        "나머지 : ?원 \n",
        "\n",
        "복습하기!!!!!!!!!!!!!!!!!!\n"
      ],
      "metadata": {
        "id": "NeR_LEq6xANn"
      }
    },
    {
      "cell_type": "code",
      "source": [
        "money, c500, c100, c50, c10 = 0, 0, 0, 0, 0\n",
        "\n",
        "money = int(input(\"동전으로 교환할 돈은?: \"))\n",
        "temp = money\n",
        "\n",
        "c500 = money // 500 # 몫을 구할때 // 사용함으로써 몫만 남음\n",
        "money = money % 500 # 500원으로 나눴을때 나머지 / 약자로 썼을때 money %=500\n",
        "c100 = money // 100\n",
        "money %= 100\n",
        "c50 = money // 50\n",
        "money %= 50\n",
        "c10 = money // 10\n",
        "money %= 10\n",
        "\n",
        "print(\"입력받은 돈은 %d원\" % temp)\n",
        "print(\"500원 동전 : %d 개\" % c500)\n",
        "print(\"100원 동전 : %d 개\" % c100)\n",
        "print(\"50원 동전 : %d 개\" % c50)\n",
        "print(\"10원 동전 : %d 개\" % c10)\n",
        "print(\"나머지 잔돈 : %d 원\" % money)\n",
        "\n",
        "\n",
        "\n",
        "\n"
      ],
      "metadata": {
        "colab": {
          "base_uri": "https://localhost:8080/"
        },
        "id": "brT2sw_6yQHU",
        "outputId": "e8e33592-c033-4057-cdb7-69e84b7f0caa"
      },
      "execution_count": 74,
      "outputs": [
        {
          "output_type": "stream",
          "name": "stdout",
          "text": [
            "동전으로 교환할 돈은?: 5400\n",
            "입력받은 돈은 5400원\n",
            "500원 동전 : 10 개\n",
            "100원 동전 : 4 개\n",
            "50원 동전 : 0 개\n",
            "10원 동전 : 0 개\n",
            "나머지 잔돈 : 0 원\n"
          ]
        }
      ]
    },
    {
      "cell_type": "markdown",
      "source": [
        "#### 조건문"
      ],
      "metadata": {
        "id": "5IGw4KFR6phV"
      }
    },
    {
      "cell_type": "code",
      "source": [
        "a = 50\n",
        "if(a < 100):\n",
        "  print(\"100보다 작으면 참\")\n",
        "  print(\"거짓이면 이문장은 보이지지 않음\") # 들여쓴 상태로 계속쓰면 if문 영향을 계속받음\n",
        "print(\"프로그램 끝\")\n"
      ],
      "metadata": {
        "colab": {
          "base_uri": "https://localhost:8080/"
        },
        "id": "QbTv5oqA6rJX",
        "outputId": "e344689a-0b23-409f-ed17-1fb99aee14e0"
      },
      "execution_count": 77,
      "outputs": [
        {
          "output_type": "stream",
          "name": "stdout",
          "text": [
            "100보다 작으면 참\n",
            "거짓이면 이문장은 보이지지 않음\n",
            "프로그램 끝\n"
          ]
        }
      ]
    },
    {
      "cell_type": "markdown",
      "source": [
        "#### else"
      ],
      "metadata": {
        "id": "UvoR4n3P9qy6"
      }
    },
    {
      "cell_type": "code",
      "source": [
        "a = 200\n",
        "if(a<100):\n",
        "  print(\"참 : 100보다 작음\")\n",
        "else:\n",
        "  print(\"거짓 : 조건보다 크면\")\n",
        "print(\"프로그램 끝\")"
      ],
      "metadata": {
        "colab": {
          "base_uri": "https://localhost:8080/"
        },
        "id": "DTc3_w5o7Yux",
        "outputId": "56e14cf6-9e96-4af6-ab08-fe20baa60c9b"
      },
      "execution_count": 80,
      "outputs": [
        {
          "output_type": "stream",
          "name": "stdout",
          "text": [
            "거짓 : 조건보다 크면\n",
            "프로그램 끝\n"
          ]
        }
      ]
    },
    {
      "cell_type": "markdown",
      "source": [
        "#### 홀짝 구분"
      ],
      "metadata": {
        "id": "e2cnU23f9YvX"
      }
    },
    {
      "cell_type": "code",
      "source": [
        "# 홀짝 구분\n",
        "a = int(input(\"숫자 입력: \"))\n",
        "if(a%2==0):\n",
        "  print(\"짝수 입니다\")\n",
        "else:\n",
        "  print(\"홀수 입니다\")"
      ],
      "metadata": {
        "colab": {
          "base_uri": "https://localhost:8080/"
        },
        "id": "Oabj2mD8749n",
        "outputId": "49c73ca3-d590-4db2-bfff-375aec60ea4e"
      },
      "execution_count": 82,
      "outputs": [
        {
          "output_type": "stream",
          "name": "stdout",
          "text": [
            "숫자 입력: 22\n",
            "짝수 입니다\n"
          ]
        }
      ]
    },
    {
      "cell_type": "markdown",
      "source": [
        "#### if문 안에 if문"
      ],
      "metadata": {
        "id": "ltJByhE89H7M"
      }
    },
    {
      "cell_type": "code",
      "source": [
        "a = int(input(\"숫자입력: \"))\n",
        "if(a>50):\n",
        "  if(a<100):\n",
        "    print(\"50<a<100\")\n",
        "  else:\n",
        "    print(\"a>100\")\n",
        "else:\n",
        "  if(a>25):\n",
        "    print(\"25<a<50\")\n",
        "  else:\n",
        "    print(\"a<25\")\n",
        "  "
      ],
      "metadata": {
        "colab": {
          "base_uri": "https://localhost:8080/"
        },
        "id": "klwgsG5C84aV",
        "outputId": "0c25ec8a-f888-4046-aa4e-a58c0d4ab5ca"
      },
      "execution_count": 89,
      "outputs": [
        {
          "output_type": "stream",
          "name": "stdout",
          "text": [
            "숫자입력: 33\n",
            "25<a<50\n"
          ]
        }
      ]
    },
    {
      "cell_type": "markdown",
      "source": [
        "#### 추가시킬때는 append"
      ],
      "metadata": {
        "id": "Y1LBSGrvAHDn"
      }
    },
    {
      "cell_type": "code",
      "source": [
        "fruit = ['사과', '배', '샤인머스켓', '바나나']\n",
        "fruit.append('망고')    # 추가할때는 append\n",
        "if '망고' in fruit :\n",
        "  print(\"망고가 있습니다.\")\n",
        "print(fruit)"
      ],
      "metadata": {
        "colab": {
          "base_uri": "https://localhost:8080/"
        },
        "id": "E3h_fcd-_r1n",
        "outputId": "9024a53d-5927-4067-941b-6ba3fc52e097"
      },
      "execution_count": 93,
      "outputs": [
        {
          "output_type": "stream",
          "name": "stdout",
          "text": [
            "망고가 있습니다.\n",
            "['사과', '배', '샤인머스켓', '바나나', '망고']\n"
          ]
        }
      ]
    },
    {
      "cell_type": "markdown",
      "source": [
        "#### for문"
      ],
      "metadata": {
        "id": "nS9V5PsFA5Km"
      }
    },
    {
      "cell_type": "code",
      "source": [
        "for i in range(1, 3, 1):  # 시작값, 끝값 + 1, 증가값\n",
        "  print(\"%d 안녕하세요.\" % i)\n",
        "print(\"환영합니다. ^^*\")"
      ],
      "metadata": {
        "colab": {
          "base_uri": "https://localhost:8080/"
        },
        "id": "CoJ9dNEtAqMO",
        "outputId": "72ab7b2b-2df6-4314-81d3-b3341ed5e74e"
      },
      "execution_count": 96,
      "outputs": [
        {
          "output_type": "stream",
          "name": "stdout",
          "text": [
            "1 안녕하세요.\n",
            "2 안녕하세요.\n",
            "환영합니다. ^^*\n"
          ]
        }
      ]
    },
    {
      "cell_type": "markdown",
      "source": [
        "#### random"
      ],
      "metadata": {
        "id": "xCy0IBwKDQ69"
      }
    },
    {
      "cell_type": "code",
      "source": [
        "import random\n",
        "num = []\n",
        "for i in range(0,6): # 증가값이 1일때는 생략가능\n",
        "  num.append(random.randrange(1,46))\n",
        "print(\"생성 리스트\", num)"
      ],
      "metadata": {
        "colab": {
          "base_uri": "https://localhost:8080/"
        },
        "id": "bdLIRPVqB54z",
        "outputId": "4dbd0625-570d-40a4-f584-d1a30d05d939"
      },
      "execution_count": 98,
      "outputs": [
        {
          "output_type": "stream",
          "name": "stdout",
          "text": [
            "생성 리스트 [13, 6, 1, 7, 31, 30]\n"
          ]
        }
      ]
    },
    {
      "cell_type": "code",
      "source": [
        "for i in range(1, 9, 1):\n",
        "  print(\"%d\" % i, end = '\\t') # 가로로 찍을때 end = ''   띄울때는 end = ' '\n",
        "print(\"\\n\")\n",
        "for i in range(1, 9, 1):\n",
        "  print(\"%d\" % i, end='\\t')"
      ],
      "metadata": {
        "colab": {
          "base_uri": "https://localhost:8080/"
        },
        "id": "PelIn5HsDfcg",
        "outputId": "ac7b86c2-e4a0-4794-8e22-ea11e8a5efd8"
      },
      "execution_count": 103,
      "outputs": [
        {
          "output_type": "stream",
          "name": "stdout",
          "text": [
            "1\t2\t3\t4\t5\t6\t7\t8\t\n",
            "\n",
            "1\t2\t3\t4\t5\t6\t7\t8\t"
          ]
        }
      ]
    },
    {
      "cell_type": "code",
      "source": [
        "sum = 0\n",
        "for i in range(1,11,1):\n",
        "  sum = sum + i\n",
        "print(\"1부터 10까지의 합:%d\" % sum)"
      ],
      "metadata": {
        "colab": {
          "base_uri": "https://localhost:8080/"
        },
        "id": "IrwmzsnLERcW",
        "outputId": "e56051af-85f0-4266-a95d-76c727d3bcfd"
      },
      "execution_count": 107,
      "outputs": [
        {
          "output_type": "stream",
          "name": "stdout",
          "text": [
            "1부터 10까지의 합:55\n"
          ]
        }
      ]
    },
    {
      "cell_type": "code",
      "source": [
        "sum, num = 0, 0\n",
        "num = int(input(\"숫자입력: \"))\n",
        "for i in range(1, num+1, 1):\n",
        "  sum = sum + i\n",
        "print(\"1~n까지의 합:%d\" % sum)\n",
        "\n"
      ],
      "metadata": {
        "colab": {
          "base_uri": "https://localhost:8080/"
        },
        "id": "UHdqpugzFCm-",
        "outputId": "2d38a441-166b-4026-a2db-87ab29e9fae2"
      },
      "execution_count": 109,
      "outputs": [
        {
          "output_type": "stream",
          "name": "stdout",
          "text": [
            "숫자입력: 100\n",
            "1~n까지의 합:5050\n"
          ]
        }
      ]
    },
    {
      "cell_type": "markdown",
      "source": [
        "#### 구구단"
      ],
      "metadata": {
        "id": "6iyhsb8wFxwI"
      }
    },
    {
      "cell_type": "code",
      "source": [
        "i, j=2, 0\n",
        "for j in range(1,10,1): # 1부터 9까지 1씩 증가시켜라\n",
        "  print(\"%d x %d = %2d\" % (i, j, i * j))"
      ],
      "metadata": {
        "colab": {
          "base_uri": "https://localhost:8080/"
        },
        "id": "E3AvqEtoFzbX",
        "outputId": "5811cc0c-a71a-4811-e121-658de0553240"
      },
      "execution_count": 111,
      "outputs": [
        {
          "output_type": "stream",
          "name": "stdout",
          "text": [
            "2 x 1 =  2\n",
            "2 x 2 =  4\n",
            "2 x 3 =  6\n",
            "2 x 4 =  8\n",
            "2 x 5 = 10\n",
            "2 x 6 = 12\n",
            "2 x 7 = 14\n",
            "2 x 8 = 16\n",
            "2 x 9 = 18\n"
          ]
        }
      ]
    },
    {
      "cell_type": "code",
      "source": [
        "i, j, k= 0, 0, 0\n",
        "for i in range(2,10,1): # 1부터 9까지 1씩 증가시켜라\n",
        "  for j in range(1,10,1):\n",
        "  print(\"%d x %d = %2d\" % (i, j, i * j))\n",
        "print(\" \")"
      ],
      "metadata": {
        "colab": {
          "base_uri": "https://localhost:8080/",
          "height": 130
        },
        "id": "_gatPhq7Gsg4",
        "outputId": "061f9ff5-a1d5-4894-ae97-419c7aed88ba"
      },
      "execution_count": 112,
      "outputs": [
        {
          "output_type": "error",
          "ename": "IndentationError",
          "evalue": "ignored",
          "traceback": [
            "\u001b[0;36m  File \u001b[0;32m\"<ipython-input-112-8c6970c43fcc>\"\u001b[0;36m, line \u001b[0;32m4\u001b[0m\n\u001b[0;31m    print(\"%d x %d = %2d\" % (i, j, i * j))\u001b[0m\n\u001b[0m    ^\u001b[0m\n\u001b[0;31mIndentationError\u001b[0m\u001b[0;31m:\u001b[0m expected an indented block\n"
          ]
        }
      ]
    },
    {
      "cell_type": "markdown",
      "source": [
        "#### quiz3 / 구구단을 만들고 2, 3, 4, 5 줄바꿔서 6, 7, 8, 9을 출력하시오"
      ],
      "metadata": {
        "id": "57Lb-HYLHYOI"
      }
    },
    {
      "cell_type": "code",
      "source": [
        "i, j=2, 0\n",
        "for j in range(1,10,1):\n",
        "  print(\"%d x %d = %2d\" % (i, j, i * j))\n",
        "\n",
        "i, j=3, 0\n",
        "for j in range(1,10,1):\n",
        "  print(end = '' \"%d x %d = %2d\" % (i, j, i * j),)"
      ],
      "metadata": {
        "colab": {
          "base_uri": "https://localhost:8080/"
        },
        "id": "f9Rv_zF6IHas",
        "outputId": "5464f2a4-1e37-4c1a-877b-6bf7af0fc4a5"
      },
      "execution_count": 134,
      "outputs": [
        {
          "output_type": "stream",
          "name": "stdout",
          "text": [
            "2 x 1 =  2\n",
            "2 x 2 =  4\n",
            "2 x 3 =  6\n",
            "2 x 4 =  8\n",
            "2 x 5 = 10\n",
            "2 x 6 = 12\n",
            "2 x 7 = 14\n",
            "2 x 8 = 16\n",
            "2 x 9 = 18\n",
            "3 x 1 =  33 x 2 =  63 x 3 =  93 x 4 = 123 x 5 = 153 x 6 = 183 x 7 = 213 x 8 = 243 x 9 = 27"
          ]
        }
      ]
    }
  ]
}